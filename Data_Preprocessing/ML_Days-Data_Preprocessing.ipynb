{
 "cells": [
  {
   "cell_type": "markdown",
   "metadata": {},
   "source": [
    "# Data Preprocessing"
   ]
  },
  {
   "cell_type": "code",
   "execution_count": 1,
   "metadata": {},
   "outputs": [],
   "source": [
    "import pandas as pd\n",
    "import numpy as np"
   ]
  },
  {
   "cell_type": "code",
   "execution_count": 22,
   "metadata": {},
   "outputs": [
    {
     "data": {
      "text/html": [
       "<div>\n",
       "<style scoped>\n",
       "    .dataframe tbody tr th:only-of-type {\n",
       "        vertical-align: middle;\n",
       "    }\n",
       "\n",
       "    .dataframe tbody tr th {\n",
       "        vertical-align: top;\n",
       "    }\n",
       "\n",
       "    .dataframe thead th {\n",
       "        text-align: right;\n",
       "    }\n",
       "</style>\n",
       "<table border=\"1\" class=\"dataframe\">\n",
       "  <thead>\n",
       "    <tr style=\"text-align: right;\">\n",
       "      <th></th>\n",
       "      <th>İsim</th>\n",
       "      <th>Soyad</th>\n",
       "      <th>Yas</th>\n",
       "      <th>Sehir</th>\n",
       "      <th>Ulke</th>\n",
       "      <th>GANO</th>\n",
       "    </tr>\n",
       "  </thead>\n",
       "  <tbody>\n",
       "    <tr>\n",
       "      <th>0</th>\n",
       "      <td>Mert</td>\n",
       "      <td>Cobanov</td>\n",
       "      <td>24</td>\n",
       "      <td>Bursa</td>\n",
       "      <td>Turkiye</td>\n",
       "      <td>NaN</td>\n",
       "    </tr>\n",
       "    <tr>\n",
       "      <th>1</th>\n",
       "      <td>Nilay</td>\n",
       "      <td>Mertal</td>\n",
       "      <td>22</td>\n",
       "      <td>Ankara</td>\n",
       "      <td>Turkiye</td>\n",
       "      <td>NaN</td>\n",
       "    </tr>\n",
       "    <tr>\n",
       "      <th>2</th>\n",
       "      <td>Dogancan</td>\n",
       "      <td>Mavideniz</td>\n",
       "      <td>24</td>\n",
       "      <td>Istanbul</td>\n",
       "      <td>Turkiye</td>\n",
       "      <td>NaN</td>\n",
       "    </tr>\n",
       "    <tr>\n",
       "      <th>3</th>\n",
       "      <td>Omer</td>\n",
       "      <td>Cengiz</td>\n",
       "      <td>23</td>\n",
       "      <td>NaN</td>\n",
       "      <td>Turkiye</td>\n",
       "      <td>NaN</td>\n",
       "    </tr>\n",
       "    <tr>\n",
       "      <th>4</th>\n",
       "      <td>Merve</td>\n",
       "      <td>Noyan</td>\n",
       "      <td>bilinmiyor</td>\n",
       "      <td>Izmir</td>\n",
       "      <td>Turkiye</td>\n",
       "      <td>3.9</td>\n",
       "    </tr>\n",
       "    <tr>\n",
       "      <th>5</th>\n",
       "      <td>Onur</td>\n",
       "      <td>Sahil</td>\n",
       "      <td>23</td>\n",
       "      <td>Istanbul</td>\n",
       "      <td>Turkiye</td>\n",
       "      <td>NaN</td>\n",
       "    </tr>\n",
       "  </tbody>\n",
       "</table>\n",
       "</div>"
      ],
      "text/plain": [
       "       İsim      Soyad         Yas     Sehir     Ulke  GANO\n",
       "0      Mert    Cobanov          24     Bursa  Turkiye   NaN\n",
       "1     Nilay     Mertal          22    Ankara  Turkiye   NaN\n",
       "2  Dogancan  Mavideniz          24  Istanbul  Turkiye   NaN\n",
       "3      Omer     Cengiz          23       NaN  Turkiye   NaN\n",
       "4     Merve      Noyan  bilinmiyor     Izmir  Turkiye   3.9\n",
       "5      Onur      Sahil          23  Istanbul  Turkiye   NaN"
      ]
     },
     "execution_count": 22,
     "metadata": {},
     "output_type": "execute_result"
    }
   ],
   "source": [
    "dataset = {\"İsim\": [\"Mert\", \"Nilay\", \"Dogancan\", \"Omer\", \"Merve\", \"Onur\"],\n",
    "          \"Soyad\": [\"Cobanov\", \"Mertal\", \"Mavideniz\", \"Cengiz\", \"Noyan\", \"Sahil\"],\n",
    "          \"Yas\": [24, 22, 24, 23, \"bilinmiyor\", 23],\n",
    "          \"Sehir\": [\"Bursa\", \"Ankara\", \"Istanbul\", np.nan, \"Izmir\", \"Istanbul\"],\n",
    "          \"Ulke\": [\"Turkiye\", \"Turkiye\", \"Turkiye\", \"Turkiye\", \"Turkiye\", \"Turkiye\"],\n",
    "          \"GANO\": [np.nan, np.nan, np.nan, np.nan, 3.90, np.nan]}\n",
    "\n",
    "df = pd.DataFrame(dataset)\n",
    "df"
   ]
  },
  {
   "cell_type": "markdown",
   "metadata": {},
   "source": [
    "# 1. Adım: Büyük resime bakın!\n",
    "\n",
    "Her şeyden önce, bir preprocessing işlemine başlarken, veri tiplerine, satır-sütün sayılarına, eksik verilere ve genel şemaya bakarak başlamalısınız. Burada `<DataFrame>.info()` fonksiyonu ile bir önbilgi alınabilir.\n",
    "\n",
    " - İlk dikkatimi çeken unsur `Yas` kolonunun integer olması yerine object olması. Dataframe'e dönüp baktığımda yaşlardan birinin bilinmiyor olarak kodlandığını görüyorum. Eğer sayılardan oluşan bir kolonda farklı bir datatype varsa, pandas bunun object olarak algılayacaktır.\n",
    " - Dikkatimi çeken diğer bir unsur `Sehir` ve `GANO` kolonundaki eksik değerler, bunların halledilmesi gerekecek.\n",
    " - Toplam 6 satır olmasına rağmen `GANO` kolonunda sadece tek bir değer görebiliyorum, burada bu kolonu tamamen kaldırmak mantıklı olacağını düşünüyorum.\n",
    " - Ulke kolonundaki tüm değerler aynı, bu yüzden kaldırabiliriz."
   ]
  },
  {
   "cell_type": "code",
   "execution_count": 3,
   "metadata": {},
   "outputs": [
    {
     "name": "stdout",
     "output_type": "stream",
     "text": [
      "<class 'pandas.core.frame.DataFrame'>\n",
      "RangeIndex: 6 entries, 0 to 5\n",
      "Data columns (total 6 columns):\n",
      " #   Column  Non-Null Count  Dtype  \n",
      "---  ------  --------------  -----  \n",
      " 0   İsim    6 non-null      object \n",
      " 1   Soyad   6 non-null      object \n",
      " 2   Yas     6 non-null      object \n",
      " 3   Sehir   5 non-null      object \n",
      " 4   Ulke    6 non-null      object \n",
      " 5   GANO    1 non-null      float64\n",
      "dtypes: float64(1), object(5)\n",
      "memory usage: 416.0+ bytes\n"
     ]
    }
   ],
   "source": [
    "df.info()"
   ]
  },
  {
   "cell_type": "markdown",
   "metadata": {},
   "source": [
    "## NaN kontrolü\n",
    "**NaN** değerleri saydırarak kontrol edelim. Eğer bir kez `.sum()` fonksiyonunu çağırırsam, kolon bazında toplayacaktır, eğer bir kez daha çağırırsam, eksik değerlerimin toplamını da görebilirim."
   ]
  },
  {
   "cell_type": "code",
   "execution_count": 7,
   "metadata": {},
   "outputs": [
    {
     "data": {
      "text/plain": [
       "İsim     0\n",
       "Soyad    0\n",
       "Yas      0\n",
       "Sehir    1\n",
       "Ulke     0\n",
       "GANO     5\n",
       "dtype: int64"
      ]
     },
     "execution_count": 7,
     "metadata": {},
     "output_type": "execute_result"
    }
   ],
   "source": [
    "df.isna().sum()"
   ]
  },
  {
   "cell_type": "code",
   "execution_count": 8,
   "metadata": {},
   "outputs": [
    {
     "data": {
      "text/plain": [
       "6"
      ]
     },
     "execution_count": 8,
     "metadata": {},
     "output_type": "execute_result"
    }
   ],
   "source": [
    "df.isna().sum().sum() #df'de toplam kaç adet NaN value var?"
   ]
  },
  {
   "cell_type": "markdown",
   "metadata": {},
   "source": [
    "# 2. Adım: Manipülasyona Başlayın!"
   ]
  },
  {
   "cell_type": "markdown",
   "metadata": {},
   "source": [
    "## Bilgi içermeyen kolonların kaldırılması\n",
    "\n",
    "GANO ve Ulke satırlarının kaldırılmasına karar vermiştik, bunu yapabileceğimiz iki yöntem var: \n",
    " - Önkabul olarak, eğer kolonlar belirli bir eşik değerinin üzerinde *NaN* değer içerdiğinde kaldırmak istiyorsanız\n",
    " - Seçtiğiniz kolonları manuel olarak kaldırmak istiyorsanız"
   ]
  },
  {
   "cell_type": "code",
   "execution_count": 10,
   "metadata": {},
   "outputs": [
    {
     "data": {
      "text/html": [
       "<div>\n",
       "<style scoped>\n",
       "    .dataframe tbody tr th:only-of-type {\n",
       "        vertical-align: middle;\n",
       "    }\n",
       "\n",
       "    .dataframe tbody tr th {\n",
       "        vertical-align: top;\n",
       "    }\n",
       "\n",
       "    .dataframe thead th {\n",
       "        text-align: right;\n",
       "    }\n",
       "</style>\n",
       "<table border=\"1\" class=\"dataframe\">\n",
       "  <thead>\n",
       "    <tr style=\"text-align: right;\">\n",
       "      <th></th>\n",
       "      <th>İsim</th>\n",
       "      <th>Soyad</th>\n",
       "      <th>Yas</th>\n",
       "      <th>Sehir</th>\n",
       "      <th>Ulke</th>\n",
       "    </tr>\n",
       "  </thead>\n",
       "  <tbody>\n",
       "    <tr>\n",
       "      <th>0</th>\n",
       "      <td>Mert</td>\n",
       "      <td>Cobanov</td>\n",
       "      <td>24</td>\n",
       "      <td>Bursa</td>\n",
       "      <td>Turkiye</td>\n",
       "    </tr>\n",
       "    <tr>\n",
       "      <th>1</th>\n",
       "      <td>Nilay</td>\n",
       "      <td>Mertal</td>\n",
       "      <td>22</td>\n",
       "      <td>Ankara</td>\n",
       "      <td>Turkiye</td>\n",
       "    </tr>\n",
       "    <tr>\n",
       "      <th>2</th>\n",
       "      <td>Dogancan</td>\n",
       "      <td>Mavideniz</td>\n",
       "      <td>24</td>\n",
       "      <td>Istanbul</td>\n",
       "      <td>Turkiye</td>\n",
       "    </tr>\n",
       "    <tr>\n",
       "      <th>3</th>\n",
       "      <td>Omer</td>\n",
       "      <td>Cengiz</td>\n",
       "      <td>23</td>\n",
       "      <td>NaN</td>\n",
       "      <td>Turkiye</td>\n",
       "    </tr>\n",
       "    <tr>\n",
       "      <th>4</th>\n",
       "      <td>Merve</td>\n",
       "      <td>Noyan</td>\n",
       "      <td>bilinmiyor</td>\n",
       "      <td>Izmir</td>\n",
       "      <td>Turkiye</td>\n",
       "    </tr>\n",
       "    <tr>\n",
       "      <th>5</th>\n",
       "      <td>Onur</td>\n",
       "      <td>Sahil</td>\n",
       "      <td>23</td>\n",
       "      <td>Istanbul</td>\n",
       "      <td>Turkiye</td>\n",
       "    </tr>\n",
       "  </tbody>\n",
       "</table>\n",
       "</div>"
      ],
      "text/plain": [
       "       İsim      Soyad         Yas     Sehir     Ulke\n",
       "0      Mert    Cobanov          24     Bursa  Turkiye\n",
       "1     Nilay     Mertal          22    Ankara  Turkiye\n",
       "2  Dogancan  Mavideniz          24  Istanbul  Turkiye\n",
       "3      Omer     Cengiz          23       NaN  Turkiye\n",
       "4     Merve      Noyan  bilinmiyor     Izmir  Turkiye\n",
       "5      Onur      Sahil          23  Istanbul  Turkiye"
      ]
     },
     "execution_count": 10,
     "metadata": {},
     "output_type": "execute_result"
    }
   ],
   "source": [
    "# 1. Yöntem\n",
    "df.dropna(axis=1, how=\"any\", thresh=3) # 3 taneden fazla NaN değeri içeren column'u kaldıracak.\n",
    "# GANO column'u kaldırıldı."
   ]
  },
  {
   "cell_type": "code",
   "execution_count": 13,
   "metadata": {},
   "outputs": [
    {
     "data": {
      "text/html": [
       "<div>\n",
       "<style scoped>\n",
       "    .dataframe tbody tr th:only-of-type {\n",
       "        vertical-align: middle;\n",
       "    }\n",
       "\n",
       "    .dataframe tbody tr th {\n",
       "        vertical-align: top;\n",
       "    }\n",
       "\n",
       "    .dataframe thead th {\n",
       "        text-align: right;\n",
       "    }\n",
       "</style>\n",
       "<table border=\"1\" class=\"dataframe\">\n",
       "  <thead>\n",
       "    <tr style=\"text-align: right;\">\n",
       "      <th></th>\n",
       "      <th>İsim</th>\n",
       "      <th>Soyad</th>\n",
       "      <th>Yas</th>\n",
       "      <th>Sehir</th>\n",
       "      <th>Ulke</th>\n",
       "    </tr>\n",
       "  </thead>\n",
       "  <tbody>\n",
       "    <tr>\n",
       "      <th>0</th>\n",
       "      <td>Mert</td>\n",
       "      <td>Cobanov</td>\n",
       "      <td>24</td>\n",
       "      <td>Bursa</td>\n",
       "      <td>Turkiye</td>\n",
       "    </tr>\n",
       "    <tr>\n",
       "      <th>1</th>\n",
       "      <td>Nilay</td>\n",
       "      <td>Mertal</td>\n",
       "      <td>22</td>\n",
       "      <td>Ankara</td>\n",
       "      <td>Turkiye</td>\n",
       "    </tr>\n",
       "    <tr>\n",
       "      <th>2</th>\n",
       "      <td>Dogancan</td>\n",
       "      <td>Mavideniz</td>\n",
       "      <td>24</td>\n",
       "      <td>Istanbul</td>\n",
       "      <td>Turkiye</td>\n",
       "    </tr>\n",
       "    <tr>\n",
       "      <th>3</th>\n",
       "      <td>Omer</td>\n",
       "      <td>Cengiz</td>\n",
       "      <td>23</td>\n",
       "      <td>NaN</td>\n",
       "      <td>Turkiye</td>\n",
       "    </tr>\n",
       "    <tr>\n",
       "      <th>4</th>\n",
       "      <td>Merve</td>\n",
       "      <td>Noyan</td>\n",
       "      <td>bilinmiyor</td>\n",
       "      <td>Izmir</td>\n",
       "      <td>Turkiye</td>\n",
       "    </tr>\n",
       "    <tr>\n",
       "      <th>5</th>\n",
       "      <td>Onur</td>\n",
       "      <td>Sahil</td>\n",
       "      <td>23</td>\n",
       "      <td>Istanbul</td>\n",
       "      <td>Turkiye</td>\n",
       "    </tr>\n",
       "  </tbody>\n",
       "</table>\n",
       "</div>"
      ],
      "text/plain": [
       "       İsim      Soyad         Yas     Sehir     Ulke\n",
       "0      Mert    Cobanov          24     Bursa  Turkiye\n",
       "1     Nilay     Mertal          22    Ankara  Turkiye\n",
       "2  Dogancan  Mavideniz          24  Istanbul  Turkiye\n",
       "3      Omer     Cengiz          23       NaN  Turkiye\n",
       "4     Merve      Noyan  bilinmiyor     Izmir  Turkiye\n",
       "5      Onur      Sahil          23  Istanbul  Turkiye"
      ]
     },
     "execution_count": 13,
     "metadata": {},
     "output_type": "execute_result"
    }
   ],
   "source": [
    "# 2. Yöntem\n",
    "df.drop(labels=[\"GANO\"], axis=1)\n",
    "# Eğer aynı dataframe'inize direk uygulamak istiyorsanız inplace parametresine True değerini verin.\n",
    "# df.drop(labels=[\"GANO\"], axis=1, inplace=True)"
   ]
  },
  {
   "cell_type": "markdown",
   "metadata": {},
   "source": [
    "Ayrıca unutmadan Ulke satırındaki her değer aynı olduğu için modelimizin buna ihtiyacı olmayacak."
   ]
  },
  {
   "cell_type": "code",
   "execution_count": 19,
   "metadata": {},
   "outputs": [
    {
     "data": {
      "text/html": [
       "<div>\n",
       "<style scoped>\n",
       "    .dataframe tbody tr th:only-of-type {\n",
       "        vertical-align: middle;\n",
       "    }\n",
       "\n",
       "    .dataframe tbody tr th {\n",
       "        vertical-align: top;\n",
       "    }\n",
       "\n",
       "    .dataframe thead th {\n",
       "        text-align: right;\n",
       "    }\n",
       "</style>\n",
       "<table border=\"1\" class=\"dataframe\">\n",
       "  <thead>\n",
       "    <tr style=\"text-align: right;\">\n",
       "      <th></th>\n",
       "      <th>İsim</th>\n",
       "      <th>Soyad</th>\n",
       "      <th>Yas</th>\n",
       "      <th>Sehir</th>\n",
       "      <th>Ulke</th>\n",
       "      <th>GANO</th>\n",
       "    </tr>\n",
       "  </thead>\n",
       "  <tbody>\n",
       "    <tr>\n",
       "      <th>0</th>\n",
       "      <td>Mert</td>\n",
       "      <td>Cobanov</td>\n",
       "      <td>24</td>\n",
       "      <td>Bursa</td>\n",
       "      <td>Turkiye</td>\n",
       "      <td>NaN</td>\n",
       "    </tr>\n",
       "    <tr>\n",
       "      <th>1</th>\n",
       "      <td>Nilay</td>\n",
       "      <td>Mertal</td>\n",
       "      <td>22</td>\n",
       "      <td>Ankara</td>\n",
       "      <td>Turkiye</td>\n",
       "      <td>NaN</td>\n",
       "    </tr>\n",
       "    <tr>\n",
       "      <th>2</th>\n",
       "      <td>Dogancan</td>\n",
       "      <td>Mavideniz</td>\n",
       "      <td>24</td>\n",
       "      <td>Istanbul</td>\n",
       "      <td>Turkiye</td>\n",
       "      <td>NaN</td>\n",
       "    </tr>\n",
       "    <tr>\n",
       "      <th>3</th>\n",
       "      <td>Omer</td>\n",
       "      <td>Cengiz</td>\n",
       "      <td>23</td>\n",
       "      <td>NaN</td>\n",
       "      <td>Turkiye</td>\n",
       "      <td>NaN</td>\n",
       "    </tr>\n",
       "    <tr>\n",
       "      <th>4</th>\n",
       "      <td>Merve</td>\n",
       "      <td>Noyan</td>\n",
       "      <td>bilinmiyor</td>\n",
       "      <td>Izmir</td>\n",
       "      <td>Turkiye</td>\n",
       "      <td>3.9</td>\n",
       "    </tr>\n",
       "    <tr>\n",
       "      <th>5</th>\n",
       "      <td>Onur</td>\n",
       "      <td>Sahil</td>\n",
       "      <td>23</td>\n",
       "      <td>Istanbul</td>\n",
       "      <td>Turkiye</td>\n",
       "      <td>NaN</td>\n",
       "    </tr>\n",
       "  </tbody>\n",
       "</table>\n",
       "</div>"
      ],
      "text/plain": [
       "       İsim      Soyad         Yas     Sehir     Ulke  GANO\n",
       "0      Mert    Cobanov          24     Bursa  Turkiye   NaN\n",
       "1     Nilay     Mertal          22    Ankara  Turkiye   NaN\n",
       "2  Dogancan  Mavideniz          24  Istanbul  Turkiye   NaN\n",
       "3      Omer     Cengiz          23       NaN  Turkiye   NaN\n",
       "4     Merve      Noyan  bilinmiyor     Izmir  Turkiye   3.9\n",
       "5      Onur      Sahil          23  Istanbul  Turkiye   NaN"
      ]
     },
     "execution_count": 19,
     "metadata": {},
     "output_type": "execute_result"
    }
   ],
   "source": [
    "df"
   ]
  },
  {
   "cell_type": "code",
   "execution_count": 34,
   "metadata": {},
   "outputs": [],
   "source": [
    "#df.drop(columns=[\"GANO\", \"Ulke\"], inplace=True) #bu kez labels yerine columns kullandık.\n",
    "\n",
    "df_2 = df.drop(columns=[\"GANO\", \"Ulke\"])\n",
    "#inplace kullanmadan degisiklik yapılmış halini başka bir degiskene tanımlayabiliriz."
   ]
  },
  {
   "cell_type": "code",
   "execution_count": 35,
   "metadata": {},
   "outputs": [
    {
     "data": {
      "text/html": [
       "<div>\n",
       "<style scoped>\n",
       "    .dataframe tbody tr th:only-of-type {\n",
       "        vertical-align: middle;\n",
       "    }\n",
       "\n",
       "    .dataframe tbody tr th {\n",
       "        vertical-align: top;\n",
       "    }\n",
       "\n",
       "    .dataframe thead th {\n",
       "        text-align: right;\n",
       "    }\n",
       "</style>\n",
       "<table border=\"1\" class=\"dataframe\">\n",
       "  <thead>\n",
       "    <tr style=\"text-align: right;\">\n",
       "      <th></th>\n",
       "      <th>İsim</th>\n",
       "      <th>Soyad</th>\n",
       "      <th>Yas</th>\n",
       "      <th>Sehir</th>\n",
       "    </tr>\n",
       "  </thead>\n",
       "  <tbody>\n",
       "    <tr>\n",
       "      <th>0</th>\n",
       "      <td>Mert</td>\n",
       "      <td>Cobanov</td>\n",
       "      <td>24</td>\n",
       "      <td>Bursa</td>\n",
       "    </tr>\n",
       "    <tr>\n",
       "      <th>1</th>\n",
       "      <td>Nilay</td>\n",
       "      <td>Mertal</td>\n",
       "      <td>22</td>\n",
       "      <td>Ankara</td>\n",
       "    </tr>\n",
       "    <tr>\n",
       "      <th>2</th>\n",
       "      <td>Dogancan</td>\n",
       "      <td>Mavideniz</td>\n",
       "      <td>24</td>\n",
       "      <td>Istanbul</td>\n",
       "    </tr>\n",
       "    <tr>\n",
       "      <th>3</th>\n",
       "      <td>Omer</td>\n",
       "      <td>Cengiz</td>\n",
       "      <td>23</td>\n",
       "      <td>NaN</td>\n",
       "    </tr>\n",
       "    <tr>\n",
       "      <th>4</th>\n",
       "      <td>Merve</td>\n",
       "      <td>Noyan</td>\n",
       "      <td>bilinmiyor</td>\n",
       "      <td>Izmir</td>\n",
       "    </tr>\n",
       "    <tr>\n",
       "      <th>5</th>\n",
       "      <td>Onur</td>\n",
       "      <td>Sahil</td>\n",
       "      <td>23</td>\n",
       "      <td>Istanbul</td>\n",
       "    </tr>\n",
       "  </tbody>\n",
       "</table>\n",
       "</div>"
      ],
      "text/plain": [
       "       İsim      Soyad         Yas     Sehir\n",
       "0      Mert    Cobanov          24     Bursa\n",
       "1     Nilay     Mertal          22    Ankara\n",
       "2  Dogancan  Mavideniz          24  Istanbul\n",
       "3      Omer     Cengiz          23       NaN\n",
       "4     Merve      Noyan  bilinmiyor     Izmir\n",
       "5      Onur      Sahil          23  Istanbul"
      ]
     },
     "execution_count": 35,
     "metadata": {},
     "output_type": "execute_result"
    }
   ],
   "source": [
    "df_2 #GANO ve Ulke column'ları gitti."
   ]
  },
  {
   "cell_type": "markdown",
   "metadata": {},
   "source": [
    "## Eksik değerlerin halledilmesi\n",
    "Eksik değerlerin halledilmesiyle ilgili basit ve daha kompleks yöntemler var, burada amaç verisetimizde dezenformasyon yaratmadan bu problemlerin halledilmesi olmalı. Özellikle ML algoritmaları eksik verilere uyumlu değiller, bu yüzden ön işleme esnasında kritik konulardan birisini bu kısım oluşturuyor. \n",
    "\n",
    "Konunun önem derecesi arttıkça yaklaşımlarda değişiyor, genel bir yöntem ve herkesin kabul ettiği bir yaklaşım yok fakat size en popüler olanlarını göstermeye çalışacağım. "
   ]
  },
  {
   "cell_type": "markdown",
   "metadata": {},
   "source": [
    "Bu verileri direkt olarak kaldırabildiğiniz durumları yukarıda işledik, şimdi gelin kaldırmak istemediğimiz durumlarda neler yapabiliriz bunlara bakalım.\n",
    "\n",
    " - Mean, Median, Frequent, Constant\n",
    " - Enterpolasyon\n",
    " - KNN"
   ]
  },
  {
   "cell_type": "markdown",
   "metadata": {},
   "source": [
    "### 1. En kolay teknik"
   ]
  },
  {
   "cell_type": "markdown",
   "metadata": {},
   "source": [
    "#### Manuel"
   ]
  },
  {
   "cell_type": "code",
   "execution_count": 36,
   "metadata": {},
   "outputs": [
    {
     "data": {
      "text/plain": [
       "0            24\n",
       "1            22\n",
       "2            24\n",
       "3            23\n",
       "4    bilinmiyor\n",
       "5            23\n",
       "Name: Yas, dtype: object"
      ]
     },
     "execution_count": 36,
     "metadata": {},
     "output_type": "execute_result"
    }
   ],
   "source": [
    "df_2[\"Yas\"]"
   ]
  },
  {
   "cell_type": "code",
   "execution_count": 37,
   "metadata": {},
   "outputs": [
    {
     "data": {
      "text/plain": [
       "0    24.0\n",
       "1    22.0\n",
       "2    24.0\n",
       "3    23.0\n",
       "4     NaN\n",
       "5    23.0\n",
       "Name: Yas, dtype: float64"
      ]
     },
     "execution_count": 37,
     "metadata": {},
     "output_type": "execute_result"
    }
   ],
   "source": [
    "df_2[\"Yas\"].replace(\"bilinmiyor\", np.nan, inplace=True)\n",
    "df_2[\"Yas\"] # ilk önce eksik veriyi NaN formatına çeviriyorum"
   ]
  },
  {
   "cell_type": "code",
   "execution_count": 31,
   "metadata": {},
   "outputs": [
    {
     "data": {
      "text/plain": [
       "0    24.0\n",
       "1    22.0\n",
       "2    24.0\n",
       "3    23.0\n",
       "4    23.2\n",
       "5    23.0\n",
       "Name: Yas, dtype: float64"
      ]
     },
     "execution_count": 31,
     "metadata": {},
     "output_type": "execute_result"
    }
   ],
   "source": [
    "df_2.fillna(value=df_2[\"Yas\"].mean(), inplace=True) # sonrasında o columnun ortalaması ile dolduruyorum\n",
    "df_2[\"Yas\"]"
   ]
  },
  {
   "cell_type": "markdown",
   "metadata": {},
   "source": [
    "#### Scikit"
   ]
  },
  {
   "cell_type": "markdown",
   "metadata": {},
   "source": [
    "Scikit ile bu işlem oldukça kolaylaştırılmış, tekniğinize göre 4 yöntem seçebiliyorsunuz.\n",
    "\n",
    " - **mean:** Ortalama değer impute edilir.\n",
    " - **median:** Medyan impute edilir.\n",
    " - **most_frequent:** En çok tekrar eden değer eklenir. \n",
    " - **constant:** sabit bir değer eklenir."
   ]
  },
  {
   "cell_type": "code",
   "execution_count": 39,
   "metadata": {},
   "outputs": [],
   "source": [
    "from sklearn.impute import SimpleImputer"
   ]
  },
  {
   "cell_type": "code",
   "execution_count": 38,
   "metadata": {},
   "outputs": [
    {
     "data": {
      "text/html": [
       "<div>\n",
       "<style scoped>\n",
       "    .dataframe tbody tr th:only-of-type {\n",
       "        vertical-align: middle;\n",
       "    }\n",
       "\n",
       "    .dataframe tbody tr th {\n",
       "        vertical-align: top;\n",
       "    }\n",
       "\n",
       "    .dataframe thead th {\n",
       "        text-align: right;\n",
       "    }\n",
       "</style>\n",
       "<table border=\"1\" class=\"dataframe\">\n",
       "  <thead>\n",
       "    <tr style=\"text-align: right;\">\n",
       "      <th></th>\n",
       "      <th>İsim</th>\n",
       "      <th>Soyad</th>\n",
       "      <th>Yas</th>\n",
       "      <th>Sehir</th>\n",
       "    </tr>\n",
       "  </thead>\n",
       "  <tbody>\n",
       "    <tr>\n",
       "      <th>0</th>\n",
       "      <td>Mert</td>\n",
       "      <td>Cobanov</td>\n",
       "      <td>24.0</td>\n",
       "      <td>Bursa</td>\n",
       "    </tr>\n",
       "    <tr>\n",
       "      <th>1</th>\n",
       "      <td>Nilay</td>\n",
       "      <td>Mertal</td>\n",
       "      <td>22.0</td>\n",
       "      <td>Ankara</td>\n",
       "    </tr>\n",
       "    <tr>\n",
       "      <th>2</th>\n",
       "      <td>Dogancan</td>\n",
       "      <td>Mavideniz</td>\n",
       "      <td>24.0</td>\n",
       "      <td>Istanbul</td>\n",
       "    </tr>\n",
       "    <tr>\n",
       "      <th>3</th>\n",
       "      <td>Omer</td>\n",
       "      <td>Cengiz</td>\n",
       "      <td>23.0</td>\n",
       "      <td>NaN</td>\n",
       "    </tr>\n",
       "    <tr>\n",
       "      <th>4</th>\n",
       "      <td>Merve</td>\n",
       "      <td>Noyan</td>\n",
       "      <td>NaN</td>\n",
       "      <td>Izmir</td>\n",
       "    </tr>\n",
       "    <tr>\n",
       "      <th>5</th>\n",
       "      <td>Onur</td>\n",
       "      <td>Sahil</td>\n",
       "      <td>23.0</td>\n",
       "      <td>Istanbul</td>\n",
       "    </tr>\n",
       "  </tbody>\n",
       "</table>\n",
       "</div>"
      ],
      "text/plain": [
       "       İsim      Soyad   Yas     Sehir\n",
       "0      Mert    Cobanov  24.0     Bursa\n",
       "1     Nilay     Mertal  22.0    Ankara\n",
       "2  Dogancan  Mavideniz  24.0  Istanbul\n",
       "3      Omer     Cengiz  23.0       NaN\n",
       "4     Merve      Noyan   NaN     Izmir\n",
       "5      Onur      Sahil  23.0  Istanbul"
      ]
     },
     "execution_count": 38,
     "metadata": {},
     "output_type": "execute_result"
    }
   ],
   "source": [
    "df_2"
   ]
  },
  {
   "cell_type": "code",
   "execution_count": 40,
   "metadata": {},
   "outputs": [],
   "source": [
    "imp_freq = SimpleImputer(missing_values=np.nan, strategy=\"most_frequent\")"
   ]
  },
  {
   "cell_type": "code",
   "execution_count": 41,
   "metadata": {},
   "outputs": [
    {
     "data": {
      "text/html": [
       "<div>\n",
       "<style scoped>\n",
       "    .dataframe tbody tr th:only-of-type {\n",
       "        vertical-align: middle;\n",
       "    }\n",
       "\n",
       "    .dataframe tbody tr th {\n",
       "        vertical-align: top;\n",
       "    }\n",
       "\n",
       "    .dataframe thead th {\n",
       "        text-align: right;\n",
       "    }\n",
       "</style>\n",
       "<table border=\"1\" class=\"dataframe\">\n",
       "  <thead>\n",
       "    <tr style=\"text-align: right;\">\n",
       "      <th></th>\n",
       "      <th>İsim</th>\n",
       "      <th>Soyad</th>\n",
       "      <th>Yas</th>\n",
       "      <th>Sehir</th>\n",
       "    </tr>\n",
       "  </thead>\n",
       "  <tbody>\n",
       "    <tr>\n",
       "      <th>0</th>\n",
       "      <td>Mert</td>\n",
       "      <td>Cobanov</td>\n",
       "      <td>24.0</td>\n",
       "      <td>Bursa</td>\n",
       "    </tr>\n",
       "    <tr>\n",
       "      <th>1</th>\n",
       "      <td>Nilay</td>\n",
       "      <td>Mertal</td>\n",
       "      <td>22.0</td>\n",
       "      <td>Ankara</td>\n",
       "    </tr>\n",
       "    <tr>\n",
       "      <th>2</th>\n",
       "      <td>Dogancan</td>\n",
       "      <td>Mavideniz</td>\n",
       "      <td>24.0</td>\n",
       "      <td>Istanbul</td>\n",
       "    </tr>\n",
       "    <tr>\n",
       "      <th>3</th>\n",
       "      <td>Omer</td>\n",
       "      <td>Cengiz</td>\n",
       "      <td>23.0</td>\n",
       "      <td>NaN</td>\n",
       "    </tr>\n",
       "    <tr>\n",
       "      <th>4</th>\n",
       "      <td>Merve</td>\n",
       "      <td>Noyan</td>\n",
       "      <td>23.0</td>\n",
       "      <td>Izmir</td>\n",
       "    </tr>\n",
       "    <tr>\n",
       "      <th>5</th>\n",
       "      <td>Onur</td>\n",
       "      <td>Sahil</td>\n",
       "      <td>23.0</td>\n",
       "      <td>Istanbul</td>\n",
       "    </tr>\n",
       "  </tbody>\n",
       "</table>\n",
       "</div>"
      ],
      "text/plain": [
       "       İsim      Soyad   Yas     Sehir\n",
       "0      Mert    Cobanov  24.0     Bursa\n",
       "1     Nilay     Mertal  22.0    Ankara\n",
       "2  Dogancan  Mavideniz  24.0  Istanbul\n",
       "3      Omer     Cengiz  23.0       NaN\n",
       "4     Merve      Noyan  23.0     Izmir\n",
       "5      Onur      Sahil  23.0  Istanbul"
      ]
     },
     "execution_count": 41,
     "metadata": {},
     "output_type": "execute_result"
    }
   ],
   "source": [
    "df_2[\"Yas\"] = imp_freq.fit_transform(df_2[[\"Yas\"]])\n",
    "df_2"
   ]
  },
  {
   "cell_type": "markdown",
   "metadata": {},
   "source": [
    "### 2. Enterpolasyon\n",
    "\n",
    "\n",
    "\n",
    "Bu teknik biraz trickli olabilir, çünkü sürekli olduğunuz bir veride kullanmanız mantıklı olacaktır. Interpolasyon, elinizdeki veri noktalarının arasında bir değeri bilmediğiniz, bu iki değer arasındaki bilinmeyin noktadaki değeri bulmanızı sağlar. Mesela elinizde sıcaklık ile alakalı time-series bir data olduğunu düşünelim burada bir eksik veriniz varsa bu iki nokta arasındaki değeri bulmak için kullanabilirsiniz. Açı/Tork grafiği için verinin frekansını artırmak veya çözünürlük yükseltmek için kullanabilirsiniz.\n",
    "\n",
    "\n",
    "\n",
    "Interpolasyon için basitçe bir örneğe göz atalım:\n",
    "\n",
    " - Sıralı giden bir array'de 2 değerinin eksik olduğunu görüyorsunuz, lineer bir düzlemde 1 ve 3 sayısı arasında 2 olması gerekmektedir. \n",
    " \n",
    "**Not:** Interpolasyon'u yüksek dereceli polinomlar üzerinde de kullanabilirsiniz.\n",
    "\n",
    "\n",
    "<img src=https://upload.wikimedia.org/wikipedia/commons/thumb/9/90/Comparison_of_1D_and_2D_interpolation.svg/1280px-Comparison_of_1D_and_2D_interpolation.svg.png width=\"500\" />"
   ]
  },
  {
   "cell_type": "code",
   "execution_count": 42,
   "metadata": {},
   "outputs": [
    {
     "name": "stdout",
     "output_type": "stream",
     "text": [
      "0    0.0\n",
      "1    1.0\n",
      "2    NaN\n",
      "3    3.0\n",
      "dtype: float64\n"
     ]
    }
   ],
   "source": [
    "s = pd.Series([0, 1, np.nan, 3])\n",
    "\n",
    "print(s)"
   ]
  },
  {
   "cell_type": "code",
   "execution_count": 43,
   "metadata": {},
   "outputs": [
    {
     "data": {
      "text/plain": [
       "0    0.0\n",
       "1    1.0\n",
       "2    2.0\n",
       "3    3.0\n",
       "dtype: float64"
      ]
     },
     "execution_count": 43,
     "metadata": {},
     "output_type": "execute_result"
    }
   ],
   "source": [
    "s.interpolate() #interpolasyon ile eksik veriyi doldurduk."
   ]
  },
  {
   "cell_type": "markdown",
   "metadata": {},
   "source": [
    "### 3. En yakın komşular\n",
    "\n",
    "Varsayılan olarak, `nan_euclidean_distances` yakın komşuları bulmak için eksik değerleri destekleyen bir öklid mesafesi metriği kullanılır.\n",
    "\n",
    "Her eksik özelliği,  `n_neighbors` sayısı kadar olan yakın komşuların değerleri kullanılarak bulunur. \n",
    "\n",
    "Komşuların özelliklerinin her bir komşuya olan uzaklığının ağırlıklı ortalaması alınır. \n",
    "\n",
    "<img src=https://www.edureka.co/blog/wp-content/uploads/2018/07/KNN-Algorithm-k3-edureka-437x300.png width=\"400\" />"
   ]
  },
  {
   "cell_type": "code",
   "execution_count": 45,
   "metadata": {},
   "outputs": [],
   "source": [
    "from sklearn.impute import KNNImputer"
   ]
  },
  {
   "cell_type": "code",
   "execution_count": 46,
   "metadata": {},
   "outputs": [
    {
     "data": {
      "text/html": [
       "<div>\n",
       "<style scoped>\n",
       "    .dataframe tbody tr th:only-of-type {\n",
       "        vertical-align: middle;\n",
       "    }\n",
       "\n",
       "    .dataframe tbody tr th {\n",
       "        vertical-align: top;\n",
       "    }\n",
       "\n",
       "    .dataframe thead th {\n",
       "        text-align: right;\n",
       "    }\n",
       "</style>\n",
       "<table border=\"1\" class=\"dataframe\">\n",
       "  <thead>\n",
       "    <tr style=\"text-align: right;\">\n",
       "      <th></th>\n",
       "      <th>0</th>\n",
       "      <th>1</th>\n",
       "      <th>2</th>\n",
       "    </tr>\n",
       "  </thead>\n",
       "  <tbody>\n",
       "    <tr>\n",
       "      <th>0</th>\n",
       "      <td>1.0</td>\n",
       "      <td>2</td>\n",
       "      <td>NaN</td>\n",
       "    </tr>\n",
       "    <tr>\n",
       "      <th>1</th>\n",
       "      <td>3.0</td>\n",
       "      <td>4</td>\n",
       "      <td>3.0</td>\n",
       "    </tr>\n",
       "    <tr>\n",
       "      <th>2</th>\n",
       "      <td>NaN</td>\n",
       "      <td>6</td>\n",
       "      <td>5.0</td>\n",
       "    </tr>\n",
       "    <tr>\n",
       "      <th>3</th>\n",
       "      <td>8.0</td>\n",
       "      <td>8</td>\n",
       "      <td>7.0</td>\n",
       "    </tr>\n",
       "  </tbody>\n",
       "</table>\n",
       "</div>"
      ],
      "text/plain": [
       "     0  1    2\n",
       "0  1.0  2  NaN\n",
       "1  3.0  4  3.0\n",
       "2  NaN  6  5.0\n",
       "3  8.0  8  7.0"
      ]
     },
     "execution_count": 46,
     "metadata": {},
     "output_type": "execute_result"
    }
   ],
   "source": [
    "X = [[1, 2, np.nan], [3, 4, 3], [np.nan, 6, 5], [8, 8, 7]]\n",
    "pd.DataFrame(X)"
   ]
  },
  {
   "cell_type": "code",
   "execution_count": 48,
   "metadata": {},
   "outputs": [],
   "source": [
    "imputer = KNNImputer(n_neighbors=2, weights=\"uniform\")\n",
    "X = imputer.fit_transform(X)"
   ]
  },
  {
   "cell_type": "code",
   "execution_count": 49,
   "metadata": {},
   "outputs": [
    {
     "data": {
      "text/html": [
       "<div>\n",
       "<style scoped>\n",
       "    .dataframe tbody tr th:only-of-type {\n",
       "        vertical-align: middle;\n",
       "    }\n",
       "\n",
       "    .dataframe tbody tr th {\n",
       "        vertical-align: top;\n",
       "    }\n",
       "\n",
       "    .dataframe thead th {\n",
       "        text-align: right;\n",
       "    }\n",
       "</style>\n",
       "<table border=\"1\" class=\"dataframe\">\n",
       "  <thead>\n",
       "    <tr style=\"text-align: right;\">\n",
       "      <th></th>\n",
       "      <th>0</th>\n",
       "      <th>1</th>\n",
       "      <th>2</th>\n",
       "    </tr>\n",
       "  </thead>\n",
       "  <tbody>\n",
       "    <tr>\n",
       "      <th>0</th>\n",
       "      <td>1.0</td>\n",
       "      <td>2.0</td>\n",
       "      <td>4.0</td>\n",
       "    </tr>\n",
       "    <tr>\n",
       "      <th>1</th>\n",
       "      <td>3.0</td>\n",
       "      <td>4.0</td>\n",
       "      <td>3.0</td>\n",
       "    </tr>\n",
       "    <tr>\n",
       "      <th>2</th>\n",
       "      <td>5.5</td>\n",
       "      <td>6.0</td>\n",
       "      <td>5.0</td>\n",
       "    </tr>\n",
       "    <tr>\n",
       "      <th>3</th>\n",
       "      <td>8.0</td>\n",
       "      <td>8.0</td>\n",
       "      <td>7.0</td>\n",
       "    </tr>\n",
       "  </tbody>\n",
       "</table>\n",
       "</div>"
      ],
      "text/plain": [
       "     0    1    2\n",
       "0  1.0  2.0  4.0\n",
       "1  3.0  4.0  3.0\n",
       "2  5.5  6.0  5.0\n",
       "3  8.0  8.0  7.0"
      ]
     },
     "execution_count": 49,
     "metadata": {},
     "output_type": "execute_result"
    }
   ],
   "source": [
    "pd.DataFrame(X)"
   ]
  },
  {
   "cell_type": "markdown",
   "metadata": {},
   "source": [
    "# 3. Adım: Eksikleri tamamlayın!"
   ]
  },
  {
   "cell_type": "markdown",
   "metadata": {},
   "source": [
    "Gördüğünüz gibi matematiksel ve teorik işleri hallettikten sonra, domain expert'in kendi bilgisiyle ve kararlarıyla tamamlaması gereken konular kalacaktır. \n",
    "\n",
    "Örnek olarak aşağıda `Sehir` kolonunda kalan bir eksiğimiz var. Burada bir karar yukarıdaki tekniklerden birini kullanmaktır. Başka bir yaklaşım olarak burada bilinmeyen şehirlere `diğer` yazabiliriz."
   ]
  },
  {
   "cell_type": "code",
   "execution_count": 50,
   "metadata": {},
   "outputs": [
    {
     "data": {
      "text/html": [
       "<div>\n",
       "<style scoped>\n",
       "    .dataframe tbody tr th:only-of-type {\n",
       "        vertical-align: middle;\n",
       "    }\n",
       "\n",
       "    .dataframe tbody tr th {\n",
       "        vertical-align: top;\n",
       "    }\n",
       "\n",
       "    .dataframe thead th {\n",
       "        text-align: right;\n",
       "    }\n",
       "</style>\n",
       "<table border=\"1\" class=\"dataframe\">\n",
       "  <thead>\n",
       "    <tr style=\"text-align: right;\">\n",
       "      <th></th>\n",
       "      <th>İsim</th>\n",
       "      <th>Soyad</th>\n",
       "      <th>Yas</th>\n",
       "      <th>Sehir</th>\n",
       "    </tr>\n",
       "  </thead>\n",
       "  <tbody>\n",
       "    <tr>\n",
       "      <th>0</th>\n",
       "      <td>Mert</td>\n",
       "      <td>Cobanov</td>\n",
       "      <td>24.0</td>\n",
       "      <td>Bursa</td>\n",
       "    </tr>\n",
       "    <tr>\n",
       "      <th>1</th>\n",
       "      <td>Nilay</td>\n",
       "      <td>Mertal</td>\n",
       "      <td>22.0</td>\n",
       "      <td>Ankara</td>\n",
       "    </tr>\n",
       "    <tr>\n",
       "      <th>2</th>\n",
       "      <td>Dogancan</td>\n",
       "      <td>Mavideniz</td>\n",
       "      <td>24.0</td>\n",
       "      <td>Istanbul</td>\n",
       "    </tr>\n",
       "    <tr>\n",
       "      <th>3</th>\n",
       "      <td>Omer</td>\n",
       "      <td>Cengiz</td>\n",
       "      <td>23.0</td>\n",
       "      <td>NaN</td>\n",
       "    </tr>\n",
       "    <tr>\n",
       "      <th>4</th>\n",
       "      <td>Merve</td>\n",
       "      <td>Noyan</td>\n",
       "      <td>23.0</td>\n",
       "      <td>Izmir</td>\n",
       "    </tr>\n",
       "    <tr>\n",
       "      <th>5</th>\n",
       "      <td>Onur</td>\n",
       "      <td>Sahil</td>\n",
       "      <td>23.0</td>\n",
       "      <td>Istanbul</td>\n",
       "    </tr>\n",
       "  </tbody>\n",
       "</table>\n",
       "</div>"
      ],
      "text/plain": [
       "       İsim      Soyad   Yas     Sehir\n",
       "0      Mert    Cobanov  24.0     Bursa\n",
       "1     Nilay     Mertal  22.0    Ankara\n",
       "2  Dogancan  Mavideniz  24.0  Istanbul\n",
       "3      Omer     Cengiz  23.0       NaN\n",
       "4     Merve      Noyan  23.0     Izmir\n",
       "5      Onur      Sahil  23.0  Istanbul"
      ]
     },
     "execution_count": 50,
     "metadata": {},
     "output_type": "execute_result"
    }
   ],
   "source": [
    "df_2"
   ]
  },
  {
   "cell_type": "code",
   "execution_count": 55,
   "metadata": {},
   "outputs": [
    {
     "data": {
      "text/html": [
       "<div>\n",
       "<style scoped>\n",
       "    .dataframe tbody tr th:only-of-type {\n",
       "        vertical-align: middle;\n",
       "    }\n",
       "\n",
       "    .dataframe tbody tr th {\n",
       "        vertical-align: top;\n",
       "    }\n",
       "\n",
       "    .dataframe thead th {\n",
       "        text-align: right;\n",
       "    }\n",
       "</style>\n",
       "<table border=\"1\" class=\"dataframe\">\n",
       "  <thead>\n",
       "    <tr style=\"text-align: right;\">\n",
       "      <th></th>\n",
       "      <th>İsim</th>\n",
       "      <th>Soyad</th>\n",
       "      <th>Yas</th>\n",
       "      <th>Sehir</th>\n",
       "    </tr>\n",
       "  </thead>\n",
       "  <tbody>\n",
       "    <tr>\n",
       "      <th>0</th>\n",
       "      <td>Mert</td>\n",
       "      <td>Cobanov</td>\n",
       "      <td>24.0</td>\n",
       "      <td>Bursa</td>\n",
       "    </tr>\n",
       "    <tr>\n",
       "      <th>1</th>\n",
       "      <td>Nilay</td>\n",
       "      <td>Mertal</td>\n",
       "      <td>22.0</td>\n",
       "      <td>Ankara</td>\n",
       "    </tr>\n",
       "    <tr>\n",
       "      <th>2</th>\n",
       "      <td>Dogancan</td>\n",
       "      <td>Mavideniz</td>\n",
       "      <td>24.0</td>\n",
       "      <td>Istanbul</td>\n",
       "    </tr>\n",
       "    <tr>\n",
       "      <th>3</th>\n",
       "      <td>Omer</td>\n",
       "      <td>Cengiz</td>\n",
       "      <td>23.0</td>\n",
       "      <td>diğer</td>\n",
       "    </tr>\n",
       "    <tr>\n",
       "      <th>4</th>\n",
       "      <td>Merve</td>\n",
       "      <td>Noyan</td>\n",
       "      <td>23.0</td>\n",
       "      <td>Izmir</td>\n",
       "    </tr>\n",
       "    <tr>\n",
       "      <th>5</th>\n",
       "      <td>Onur</td>\n",
       "      <td>Sahil</td>\n",
       "      <td>23.0</td>\n",
       "      <td>Istanbul</td>\n",
       "    </tr>\n",
       "  </tbody>\n",
       "</table>\n",
       "</div>"
      ],
      "text/plain": [
       "       İsim      Soyad   Yas     Sehir\n",
       "0      Mert    Cobanov  24.0     Bursa\n",
       "1     Nilay     Mertal  22.0    Ankara\n",
       "2  Dogancan  Mavideniz  24.0  Istanbul\n",
       "3      Omer     Cengiz  23.0     diğer\n",
       "4     Merve      Noyan  23.0     Izmir\n",
       "5      Onur      Sahil  23.0  Istanbul"
      ]
     },
     "execution_count": 55,
     "metadata": {},
     "output_type": "execute_result"
    }
   ],
   "source": [
    "df_2[\"Sehir\"] = df_2[\"Sehir\"].replace(np.nan, \"diğer\")\n",
    "df_2"
   ]
  },
  {
   "cell_type": "markdown",
   "metadata": {},
   "source": [
    "## 1. Standardization\n",
    "\n",
    "Machine learning algoritmalarının büyük bir çoğunluğu iyi bir öğrenme için verinin standartlaştırılması gerekliliği duyar. Eğer veriniz Standart bir dağılım göstermiyorsa, bu modelin öğrenmesinde kötü bir performansa sebep olabilecek etkiler doğurabilir. Bu yüzden modele veriyi vermeden önce bir takım ön işlemler ile bu kötü etki ortadan kaldırılması gerekmektedir."
   ]
  },
  {
   "cell_type": "markdown",
   "metadata": {},
   "source": [
    "<img src=https://upload.wikimedia.org/wikipedia/commons/thumb/8/8c/Standard_deviation_diagram.svg/1200px-Standard_deviation_diagram.svg.png width=\"500\"/>"
   ]
  },
  {
   "cell_type": "markdown",
   "metadata": {},
   "source": [
    "### 1.1 Standard Scaler"
   ]
  },
  {
   "cell_type": "markdown",
   "metadata": {},
   "source": [
    "Standard Scaler, bir column'daki dağılımı ortalaması=0 ve standart sapması=1 olacak şekilde yeniden scale etme işlemine denir."
   ]
  },
  {
   "cell_type": "code",
   "execution_count": 57,
   "metadata": {},
   "outputs": [],
   "source": [
    "from sklearn.preprocessing import StandardScaler"
   ]
  },
  {
   "cell_type": "code",
   "execution_count": 59,
   "metadata": {},
   "outputs": [],
   "source": [
    "df_ss = df_2.copy()"
   ]
  },
  {
   "cell_type": "code",
   "execution_count": 64,
   "metadata": {},
   "outputs": [],
   "source": [
    "df_ss[\"Yas_Scaled\"] = StandardScaler().fit_transform(df_ss[[\"Yas\"]])\n",
    "#Yas_Scaled column'u ekledik ve bu column içine Yas columnundaki verileri \n",
    "#standard scaler ile scale ederek doldurduk."
   ]
  },
  {
   "cell_type": "code",
   "execution_count": 74,
   "metadata": {},
   "outputs": [
    {
     "data": {
      "text/html": [
       "<div>\n",
       "<style scoped>\n",
       "    .dataframe tbody tr th:only-of-type {\n",
       "        vertical-align: middle;\n",
       "    }\n",
       "\n",
       "    .dataframe tbody tr th {\n",
       "        vertical-align: top;\n",
       "    }\n",
       "\n",
       "    .dataframe thead th {\n",
       "        text-align: right;\n",
       "    }\n",
       "</style>\n",
       "<table border=\"1\" class=\"dataframe\">\n",
       "  <thead>\n",
       "    <tr style=\"text-align: right;\">\n",
       "      <th></th>\n",
       "      <th>İsim</th>\n",
       "      <th>Soyad</th>\n",
       "      <th>Yas</th>\n",
       "      <th>Sehir</th>\n",
       "      <th>Yas_Scaled</th>\n",
       "    </tr>\n",
       "  </thead>\n",
       "  <tbody>\n",
       "    <tr>\n",
       "      <th>0</th>\n",
       "      <td>Mert</td>\n",
       "      <td>Cobanov</td>\n",
       "      <td>24.0</td>\n",
       "      <td>Bursa</td>\n",
       "      <td>1.212678</td>\n",
       "    </tr>\n",
       "    <tr>\n",
       "      <th>1</th>\n",
       "      <td>Nilay</td>\n",
       "      <td>Mertal</td>\n",
       "      <td>22.0</td>\n",
       "      <td>Ankara</td>\n",
       "      <td>-1.697749</td>\n",
       "    </tr>\n",
       "    <tr>\n",
       "      <th>2</th>\n",
       "      <td>Dogancan</td>\n",
       "      <td>Mavideniz</td>\n",
       "      <td>24.0</td>\n",
       "      <td>Istanbul</td>\n",
       "      <td>1.212678</td>\n",
       "    </tr>\n",
       "    <tr>\n",
       "      <th>3</th>\n",
       "      <td>Omer</td>\n",
       "      <td>Cengiz</td>\n",
       "      <td>23.0</td>\n",
       "      <td>diğer</td>\n",
       "      <td>-0.242536</td>\n",
       "    </tr>\n",
       "    <tr>\n",
       "      <th>4</th>\n",
       "      <td>Merve</td>\n",
       "      <td>Noyan</td>\n",
       "      <td>23.0</td>\n",
       "      <td>Izmir</td>\n",
       "      <td>-0.242536</td>\n",
       "    </tr>\n",
       "    <tr>\n",
       "      <th>5</th>\n",
       "      <td>Onur</td>\n",
       "      <td>Sahil</td>\n",
       "      <td>23.0</td>\n",
       "      <td>Istanbul</td>\n",
       "      <td>-0.242536</td>\n",
       "    </tr>\n",
       "  </tbody>\n",
       "</table>\n",
       "</div>"
      ],
      "text/plain": [
       "       İsim      Soyad   Yas     Sehir  Yas_Scaled\n",
       "0      Mert    Cobanov  24.0     Bursa    1.212678\n",
       "1     Nilay     Mertal  22.0    Ankara   -1.697749\n",
       "2  Dogancan  Mavideniz  24.0  Istanbul    1.212678\n",
       "3      Omer     Cengiz  23.0     diğer   -0.242536\n",
       "4     Merve      Noyan  23.0     Izmir   -0.242536\n",
       "5      Onur      Sahil  23.0  Istanbul   -0.242536"
      ]
     },
     "execution_count": 74,
     "metadata": {},
     "output_type": "execute_result"
    }
   ],
   "source": [
    "df_ss"
   ]
  },
  {
   "cell_type": "code",
   "execution_count": 72,
   "metadata": {},
   "outputs": [
    {
     "name": "stdout",
     "output_type": "stream",
     "text": [
      "23.166666666666668\n",
      "0.752772652709081\n"
     ]
    }
   ],
   "source": [
    "print(df_ss[\"Yas\"].mean(axis=0))\n",
    "print(df_ss[\"Yas\"].std(axis=0))"
   ]
  },
  {
   "cell_type": "code",
   "execution_count": 76,
   "metadata": {},
   "outputs": [
    {
     "name": "stdout",
     "output_type": "stream",
     "text": [
      "-1.6930901125533637e-15\n",
      "1.0954451150103321\n"
     ]
    }
   ],
   "source": [
    "print(df_ss[\"Yas_Scaled\"].mean(axis=0))\n",
    "print(df_ss[\"Yas_Scaled\"].std(axis=0))"
   ]
  },
  {
   "cell_type": "markdown",
   "metadata": {},
   "source": [
    "### 1.2 MinMax Scaler\n",
    "Eğer çok küçük *standard sapması* olan, küçük sayı değerleriyle çalışıyorsanız **MinMaxScaler** yararlı olacaktır.\n",
    "\n",
    "<img src=https://www.oreilly.com/library/view/regression-analysis-with/9781788627306/assets/ffb3ac78-fd6f-4340-aa92-cde8ae0322d6.png width=\"500\" />"
   ]
  },
  {
   "cell_type": "code",
   "execution_count": 77,
   "metadata": {},
   "outputs": [],
   "source": [
    "from sklearn.preprocessing import MinMaxScaler"
   ]
  },
  {
   "cell_type": "code",
   "execution_count": 78,
   "metadata": {},
   "outputs": [],
   "source": [
    "df_mm = df_2.copy()"
   ]
  },
  {
   "cell_type": "code",
   "execution_count": 79,
   "metadata": {},
   "outputs": [
    {
     "data": {
      "text/html": [
       "<div>\n",
       "<style scoped>\n",
       "    .dataframe tbody tr th:only-of-type {\n",
       "        vertical-align: middle;\n",
       "    }\n",
       "\n",
       "    .dataframe tbody tr th {\n",
       "        vertical-align: top;\n",
       "    }\n",
       "\n",
       "    .dataframe thead th {\n",
       "        text-align: right;\n",
       "    }\n",
       "</style>\n",
       "<table border=\"1\" class=\"dataframe\">\n",
       "  <thead>\n",
       "    <tr style=\"text-align: right;\">\n",
       "      <th></th>\n",
       "      <th>İsim</th>\n",
       "      <th>Soyad</th>\n",
       "      <th>Yas</th>\n",
       "      <th>Sehir</th>\n",
       "    </tr>\n",
       "  </thead>\n",
       "  <tbody>\n",
       "    <tr>\n",
       "      <th>0</th>\n",
       "      <td>Mert</td>\n",
       "      <td>Cobanov</td>\n",
       "      <td>24.0</td>\n",
       "      <td>Bursa</td>\n",
       "    </tr>\n",
       "    <tr>\n",
       "      <th>1</th>\n",
       "      <td>Nilay</td>\n",
       "      <td>Mertal</td>\n",
       "      <td>22.0</td>\n",
       "      <td>Ankara</td>\n",
       "    </tr>\n",
       "    <tr>\n",
       "      <th>2</th>\n",
       "      <td>Dogancan</td>\n",
       "      <td>Mavideniz</td>\n",
       "      <td>24.0</td>\n",
       "      <td>Istanbul</td>\n",
       "    </tr>\n",
       "    <tr>\n",
       "      <th>3</th>\n",
       "      <td>Omer</td>\n",
       "      <td>Cengiz</td>\n",
       "      <td>23.0</td>\n",
       "      <td>diğer</td>\n",
       "    </tr>\n",
       "    <tr>\n",
       "      <th>4</th>\n",
       "      <td>Merve</td>\n",
       "      <td>Noyan</td>\n",
       "      <td>23.0</td>\n",
       "      <td>Izmir</td>\n",
       "    </tr>\n",
       "    <tr>\n",
       "      <th>5</th>\n",
       "      <td>Onur</td>\n",
       "      <td>Sahil</td>\n",
       "      <td>23.0</td>\n",
       "      <td>Istanbul</td>\n",
       "    </tr>\n",
       "  </tbody>\n",
       "</table>\n",
       "</div>"
      ],
      "text/plain": [
       "       İsim      Soyad   Yas     Sehir\n",
       "0      Mert    Cobanov  24.0     Bursa\n",
       "1     Nilay     Mertal  22.0    Ankara\n",
       "2  Dogancan  Mavideniz  24.0  Istanbul\n",
       "3      Omer     Cengiz  23.0     diğer\n",
       "4     Merve      Noyan  23.0     Izmir\n",
       "5      Onur      Sahil  23.0  Istanbul"
      ]
     },
     "execution_count": 79,
     "metadata": {},
     "output_type": "execute_result"
    }
   ],
   "source": [
    "df_mm"
   ]
  },
  {
   "cell_type": "code",
   "execution_count": 80,
   "metadata": {},
   "outputs": [
    {
     "data": {
      "text/html": [
       "<div>\n",
       "<style scoped>\n",
       "    .dataframe tbody tr th:only-of-type {\n",
       "        vertical-align: middle;\n",
       "    }\n",
       "\n",
       "    .dataframe tbody tr th {\n",
       "        vertical-align: top;\n",
       "    }\n",
       "\n",
       "    .dataframe thead th {\n",
       "        text-align: right;\n",
       "    }\n",
       "</style>\n",
       "<table border=\"1\" class=\"dataframe\">\n",
       "  <thead>\n",
       "    <tr style=\"text-align: right;\">\n",
       "      <th></th>\n",
       "      <th>İsim</th>\n",
       "      <th>Soyad</th>\n",
       "      <th>Yas</th>\n",
       "      <th>Sehir</th>\n",
       "      <th>Yas_Scaled</th>\n",
       "    </tr>\n",
       "  </thead>\n",
       "  <tbody>\n",
       "    <tr>\n",
       "      <th>0</th>\n",
       "      <td>Mert</td>\n",
       "      <td>Cobanov</td>\n",
       "      <td>24.0</td>\n",
       "      <td>Bursa</td>\n",
       "      <td>1.0</td>\n",
       "    </tr>\n",
       "    <tr>\n",
       "      <th>1</th>\n",
       "      <td>Nilay</td>\n",
       "      <td>Mertal</td>\n",
       "      <td>22.0</td>\n",
       "      <td>Ankara</td>\n",
       "      <td>0.0</td>\n",
       "    </tr>\n",
       "    <tr>\n",
       "      <th>2</th>\n",
       "      <td>Dogancan</td>\n",
       "      <td>Mavideniz</td>\n",
       "      <td>24.0</td>\n",
       "      <td>Istanbul</td>\n",
       "      <td>1.0</td>\n",
       "    </tr>\n",
       "    <tr>\n",
       "      <th>3</th>\n",
       "      <td>Omer</td>\n",
       "      <td>Cengiz</td>\n",
       "      <td>23.0</td>\n",
       "      <td>diğer</td>\n",
       "      <td>0.5</td>\n",
       "    </tr>\n",
       "    <tr>\n",
       "      <th>4</th>\n",
       "      <td>Merve</td>\n",
       "      <td>Noyan</td>\n",
       "      <td>23.0</td>\n",
       "      <td>Izmir</td>\n",
       "      <td>0.5</td>\n",
       "    </tr>\n",
       "    <tr>\n",
       "      <th>5</th>\n",
       "      <td>Onur</td>\n",
       "      <td>Sahil</td>\n",
       "      <td>23.0</td>\n",
       "      <td>Istanbul</td>\n",
       "      <td>0.5</td>\n",
       "    </tr>\n",
       "  </tbody>\n",
       "</table>\n",
       "</div>"
      ],
      "text/plain": [
       "       İsim      Soyad   Yas     Sehir  Yas_Scaled\n",
       "0      Mert    Cobanov  24.0     Bursa         1.0\n",
       "1     Nilay     Mertal  22.0    Ankara         0.0\n",
       "2  Dogancan  Mavideniz  24.0  Istanbul         1.0\n",
       "3      Omer     Cengiz  23.0     diğer         0.5\n",
       "4     Merve      Noyan  23.0     Izmir         0.5\n",
       "5      Onur      Sahil  23.0  Istanbul         0.5"
      ]
     },
     "execution_count": 80,
     "metadata": {},
     "output_type": "execute_result"
    }
   ],
   "source": [
    "df_mm[\"Yas_Scaled\"] = MinMaxScaler().fit_transform(df_mm[[\"Yas\"]])\n",
    "df_mm"
   ]
  },
  {
   "cell_type": "markdown",
   "metadata": {},
   "source": [
    "Max değer 24 idi. 24 -> 1.0 oldu.  \n",
    "Min değer 22 idi. 22 -> 0.0 oldu.  \n",
    "Aradaki değerler de 0 ve 1 arasında min max'a göre dağıldı."
   ]
  },
  {
   "cell_type": "markdown",
   "metadata": {},
   "source": [
    "## Not:\n",
    "\n",
    "**Verilerinizde aykırı değerler varken, scaling işlemleri çok iyi sonuçlar vermez.**\n",
    "\n",
    "*Peki neden? Elinizdeki verinin 1 ile 10 arasında dağılımı olduğunu düşünelim, veri setinin içerisinde yanlış olarak yazılmış 1000 değeri sizin scaling işleminizi bozarak, verinizi 1, 10 arasındaki tüm değerleri çok küçük bir alana sıkıştıracaktır.*"
   ]
  },
  {
   "cell_type": "markdown",
   "metadata": {},
   "source": [
    "---"
   ]
  },
  {
   "cell_type": "markdown",
   "metadata": {},
   "source": [
    "## 2. Kategorik Değerlerin Ayrıştırılması"
   ]
  },
  {
   "cell_type": "markdown",
   "metadata": {},
   "source": [
    "### 2.1 Label Encoding\n",
    "Bir kolonunuzdaki değerleri sıralı bir biçimde sayısal forma getirmek için kullanılır. Elinizde 4 adet şehir ismi olduğunu varsayalım, eğer bu değerler birçok satırda aynı isimlerle tekrarlanıyorsa, bunları sayılar ile temsil edebilirsiniz. Aşağıdaki örnekte görebileceğiniz gibi Bursa 1 sayısı ile, Ankara 0 ile, Istanbul 2 ile temsil edilecektir.\n",
    "\n",
    "*inverse_transform fonksiyonu ile geri alınabilir.*"
   ]
  },
  {
   "cell_type": "code",
   "execution_count": 83,
   "metadata": {},
   "outputs": [],
   "source": [
    "from sklearn.preprocessing import LabelEncoder"
   ]
  },
  {
   "cell_type": "code",
   "execution_count": 84,
   "metadata": {},
   "outputs": [],
   "source": [
    "le = LabelEncoder()"
   ]
  },
  {
   "cell_type": "code",
   "execution_count": 88,
   "metadata": {},
   "outputs": [
    {
     "data": {
      "text/html": [
       "<div>\n",
       "<style scoped>\n",
       "    .dataframe tbody tr th:only-of-type {\n",
       "        vertical-align: middle;\n",
       "    }\n",
       "\n",
       "    .dataframe tbody tr th {\n",
       "        vertical-align: top;\n",
       "    }\n",
       "\n",
       "    .dataframe thead th {\n",
       "        text-align: right;\n",
       "    }\n",
       "</style>\n",
       "<table border=\"1\" class=\"dataframe\">\n",
       "  <thead>\n",
       "    <tr style=\"text-align: right;\">\n",
       "      <th></th>\n",
       "      <th>İsim</th>\n",
       "      <th>Soyad</th>\n",
       "      <th>Yas</th>\n",
       "      <th>Sehir</th>\n",
       "    </tr>\n",
       "  </thead>\n",
       "  <tbody>\n",
       "    <tr>\n",
       "      <th>0</th>\n",
       "      <td>Mert</td>\n",
       "      <td>Cobanov</td>\n",
       "      <td>24.0</td>\n",
       "      <td>Bursa</td>\n",
       "    </tr>\n",
       "    <tr>\n",
       "      <th>1</th>\n",
       "      <td>Nilay</td>\n",
       "      <td>Mertal</td>\n",
       "      <td>22.0</td>\n",
       "      <td>Ankara</td>\n",
       "    </tr>\n",
       "    <tr>\n",
       "      <th>2</th>\n",
       "      <td>Dogancan</td>\n",
       "      <td>Mavideniz</td>\n",
       "      <td>24.0</td>\n",
       "      <td>Istanbul</td>\n",
       "    </tr>\n",
       "    <tr>\n",
       "      <th>3</th>\n",
       "      <td>Omer</td>\n",
       "      <td>Cengiz</td>\n",
       "      <td>23.0</td>\n",
       "      <td>diğer</td>\n",
       "    </tr>\n",
       "    <tr>\n",
       "      <th>4</th>\n",
       "      <td>Merve</td>\n",
       "      <td>Noyan</td>\n",
       "      <td>23.0</td>\n",
       "      <td>Izmir</td>\n",
       "    </tr>\n",
       "    <tr>\n",
       "      <th>5</th>\n",
       "      <td>Onur</td>\n",
       "      <td>Sahil</td>\n",
       "      <td>23.0</td>\n",
       "      <td>Istanbul</td>\n",
       "    </tr>\n",
       "  </tbody>\n",
       "</table>\n",
       "</div>"
      ],
      "text/plain": [
       "       İsim      Soyad   Yas     Sehir\n",
       "0      Mert    Cobanov  24.0     Bursa\n",
       "1     Nilay     Mertal  22.0    Ankara\n",
       "2  Dogancan  Mavideniz  24.0  Istanbul\n",
       "3      Omer     Cengiz  23.0     diğer\n",
       "4     Merve      Noyan  23.0     Izmir\n",
       "5      Onur      Sahil  23.0  Istanbul"
      ]
     },
     "execution_count": 88,
     "metadata": {},
     "output_type": "execute_result"
    }
   ],
   "source": [
    "df_le = df_2.copy()\n",
    "df_le"
   ]
  },
  {
   "cell_type": "code",
   "execution_count": 90,
   "metadata": {},
   "outputs": [
    {
     "data": {
      "text/plain": [
       "LabelEncoder()"
      ]
     },
     "execution_count": 90,
     "metadata": {},
     "output_type": "execute_result"
    }
   ],
   "source": [
    "le.fit(df_le[\"Sehir\"])\n",
    "#Sehir kolonuna label encoding islemi yapacagimi söylüyorum."
   ]
  },
  {
   "cell_type": "code",
   "execution_count": 91,
   "metadata": {},
   "outputs": [
    {
     "data": {
      "text/plain": [
       "['Ankara', 'Bursa', 'Istanbul', 'Izmir', 'diğer']"
      ]
     },
     "execution_count": 91,
     "metadata": {},
     "output_type": "execute_result"
    }
   ],
   "source": [
    "list(le.classes_) #Sehir kolonundaki unique degerler"
   ]
  },
  {
   "cell_type": "code",
   "execution_count": 92,
   "metadata": {},
   "outputs": [
    {
     "data": {
      "text/html": [
       "<div>\n",
       "<style scoped>\n",
       "    .dataframe tbody tr th:only-of-type {\n",
       "        vertical-align: middle;\n",
       "    }\n",
       "\n",
       "    .dataframe tbody tr th {\n",
       "        vertical-align: top;\n",
       "    }\n",
       "\n",
       "    .dataframe thead th {\n",
       "        text-align: right;\n",
       "    }\n",
       "</style>\n",
       "<table border=\"1\" class=\"dataframe\">\n",
       "  <thead>\n",
       "    <tr style=\"text-align: right;\">\n",
       "      <th></th>\n",
       "      <th>İsim</th>\n",
       "      <th>Soyad</th>\n",
       "      <th>Yas</th>\n",
       "      <th>Sehir</th>\n",
       "    </tr>\n",
       "  </thead>\n",
       "  <tbody>\n",
       "    <tr>\n",
       "      <th>0</th>\n",
       "      <td>Mert</td>\n",
       "      <td>Cobanov</td>\n",
       "      <td>24.0</td>\n",
       "      <td>1</td>\n",
       "    </tr>\n",
       "    <tr>\n",
       "      <th>1</th>\n",
       "      <td>Nilay</td>\n",
       "      <td>Mertal</td>\n",
       "      <td>22.0</td>\n",
       "      <td>0</td>\n",
       "    </tr>\n",
       "    <tr>\n",
       "      <th>2</th>\n",
       "      <td>Dogancan</td>\n",
       "      <td>Mavideniz</td>\n",
       "      <td>24.0</td>\n",
       "      <td>2</td>\n",
       "    </tr>\n",
       "    <tr>\n",
       "      <th>3</th>\n",
       "      <td>Omer</td>\n",
       "      <td>Cengiz</td>\n",
       "      <td>23.0</td>\n",
       "      <td>4</td>\n",
       "    </tr>\n",
       "    <tr>\n",
       "      <th>4</th>\n",
       "      <td>Merve</td>\n",
       "      <td>Noyan</td>\n",
       "      <td>23.0</td>\n",
       "      <td>3</td>\n",
       "    </tr>\n",
       "    <tr>\n",
       "      <th>5</th>\n",
       "      <td>Onur</td>\n",
       "      <td>Sahil</td>\n",
       "      <td>23.0</td>\n",
       "      <td>2</td>\n",
       "    </tr>\n",
       "  </tbody>\n",
       "</table>\n",
       "</div>"
      ],
      "text/plain": [
       "       İsim      Soyad   Yas  Sehir\n",
       "0      Mert    Cobanov  24.0      1\n",
       "1     Nilay     Mertal  22.0      0\n",
       "2  Dogancan  Mavideniz  24.0      2\n",
       "3      Omer     Cengiz  23.0      4\n",
       "4     Merve      Noyan  23.0      3\n",
       "5      Onur      Sahil  23.0      2"
      ]
     },
     "execution_count": 92,
     "metadata": {},
     "output_type": "execute_result"
    }
   ],
   "source": [
    "df_le[\"Sehir\"] = le.transform(df_le[\"Sehir\"])\n",
    "df_le"
   ]
  },
  {
   "cell_type": "code",
   "execution_count": 94,
   "metadata": {},
   "outputs": [
    {
     "data": {
      "text/plain": [
       "['Istanbul', 'Bursa', 'Ankara', 'Bursa']"
      ]
     },
     "execution_count": 94,
     "metadata": {},
     "output_type": "execute_result"
    }
   ],
   "source": [
    "# Inverse_transform fonksiyonu ile geri alınabilir\n",
    "list(le.inverse_transform([2, 1, 0, 1]))"
   ]
  },
  {
   "cell_type": "markdown",
   "metadata": {},
   "source": [
    "### 2.2 One Hot Encoding\n",
    "One Hot Encoding yöntemi bir kolon üzerindeki her bir sınıfı, o sınıfın **unique** değerleri uzunluğunda bir **vektöre** dönüştürür. Her değer bu vektör üzerindeki yerini 1 sayısını alarak belli eder, tanımı daha iyi anlamak için örneğe bakalım. \n",
    "\n",
    "Eğer kolonda [a, b, c] değerleri varsa. a [1, 0, 0] olarak temsil edilir, keza aynı şekilde b [0, 1, 0] şeklinde temsil edilecektir.\n",
    "\n",
    "One Hot Encoding yöntemini **Sci-kit** yerine pandasın **get_dummies** fonksiyonu ile çok daha hızlı ve rahat bir şekilde kullanabilirsiniz."
   ]
  },
  {
   "cell_type": "code",
   "execution_count": 99,
   "metadata": {},
   "outputs": [
    {
     "data": {
      "text/html": [
       "<div>\n",
       "<style scoped>\n",
       "    .dataframe tbody tr th:only-of-type {\n",
       "        vertical-align: middle;\n",
       "    }\n",
       "\n",
       "    .dataframe tbody tr th {\n",
       "        vertical-align: top;\n",
       "    }\n",
       "\n",
       "    .dataframe thead th {\n",
       "        text-align: right;\n",
       "    }\n",
       "</style>\n",
       "<table border=\"1\" class=\"dataframe\">\n",
       "  <thead>\n",
       "    <tr style=\"text-align: right;\">\n",
       "      <th></th>\n",
       "      <th>Ankara</th>\n",
       "      <th>Bursa</th>\n",
       "      <th>Istanbul</th>\n",
       "      <th>Izmir</th>\n",
       "      <th>diğer</th>\n",
       "    </tr>\n",
       "  </thead>\n",
       "  <tbody>\n",
       "    <tr>\n",
       "      <th>0</th>\n",
       "      <td>0</td>\n",
       "      <td>1</td>\n",
       "      <td>0</td>\n",
       "      <td>0</td>\n",
       "      <td>0</td>\n",
       "    </tr>\n",
       "    <tr>\n",
       "      <th>1</th>\n",
       "      <td>1</td>\n",
       "      <td>0</td>\n",
       "      <td>0</td>\n",
       "      <td>0</td>\n",
       "      <td>0</td>\n",
       "    </tr>\n",
       "    <tr>\n",
       "      <th>2</th>\n",
       "      <td>0</td>\n",
       "      <td>0</td>\n",
       "      <td>1</td>\n",
       "      <td>0</td>\n",
       "      <td>0</td>\n",
       "    </tr>\n",
       "    <tr>\n",
       "      <th>3</th>\n",
       "      <td>0</td>\n",
       "      <td>0</td>\n",
       "      <td>0</td>\n",
       "      <td>0</td>\n",
       "      <td>1</td>\n",
       "    </tr>\n",
       "    <tr>\n",
       "      <th>4</th>\n",
       "      <td>0</td>\n",
       "      <td>0</td>\n",
       "      <td>0</td>\n",
       "      <td>1</td>\n",
       "      <td>0</td>\n",
       "    </tr>\n",
       "    <tr>\n",
       "      <th>5</th>\n",
       "      <td>0</td>\n",
       "      <td>0</td>\n",
       "      <td>1</td>\n",
       "      <td>0</td>\n",
       "      <td>0</td>\n",
       "    </tr>\n",
       "  </tbody>\n",
       "</table>\n",
       "</div>"
      ],
      "text/plain": [
       "   Ankara  Bursa  Istanbul  Izmir  diğer\n",
       "0       0      1         0      0      0\n",
       "1       1      0         0      0      0\n",
       "2       0      0         1      0      0\n",
       "3       0      0         0      0      1\n",
       "4       0      0         0      1      0\n",
       "5       0      0         1      0      0"
      ]
     },
     "execution_count": 99,
     "metadata": {},
     "output_type": "execute_result"
    }
   ],
   "source": [
    "pd.get_dummies(df_2[\"Sehir\"])"
   ]
  },
  {
   "cell_type": "markdown",
   "metadata": {},
   "source": [
    "### 3. Kuantizasyon veya Binning"
   ]
  },
  {
   "cell_type": "markdown",
   "metadata": {},
   "source": [
    "Kuantizasyon aslına bakarsanız, haberleşme, sinyal ve elektronik derslerindeki önemli unsurlardan bir tanesidir. Bildiğiniz gibi veri genellikle iki formda bulunur. Bunlardan ilki **ayrık** *(Discrete)* ve ikincisi **sürekli** (Continuous). Bazen verinizi sınıflara ayırmak istediğinizde bu işlem çok büyük önem arz etmektedir. Sürekli bir değeri sınıflara ayırmak karar ağaçlarında veya hedefinizi sınıflandırmak istediğinizde kullanabileceğiniz bir fonksiyondur.\n",
    "\n",
    "Burada en basit yöntem yuvarlama olabilir, sayıyı belirli sayıların katlarına basitçe yuvarlayabilirsiniz, fakat daha bilimsel bir yöntem olan K-Bins kullanılabilir. "
   ]
  },
  {
   "cell_type": "code",
   "execution_count": 100,
   "metadata": {},
   "outputs": [],
   "source": [
    "X = np.array([[ -3., 5., 15 ],\n",
    "              [  0., 6., 14 ],\n",
    "              [  6., 3., 11 ]])"
   ]
  },
  {
   "cell_type": "code",
   "execution_count": 101,
   "metadata": {},
   "outputs": [],
   "source": [
    "from sklearn import preprocessing"
   ]
  },
  {
   "cell_type": "code",
   "execution_count": 102,
   "metadata": {},
   "outputs": [
    {
     "data": {
      "text/plain": [
       "array([[0., 1., 1.],\n",
       "       [1., 1., 1.],\n",
       "       [2., 0., 0.]])"
      ]
     },
     "execution_count": 102,
     "metadata": {},
     "output_type": "execute_result"
    }
   ],
   "source": [
    "preprocessing.KBinsDiscretizer(n_bins=[3,2,2], encode=\"ordinal\").fit_transform(X)"
   ]
  },
  {
   "cell_type": "markdown",
   "metadata": {},
   "source": [
    "Örneği daha iyi anlamak adına her bir kolona bakabilirsiniz. **n_bins** parametresiyle kaç adet sınıfa bölmek istediğinizi seçebilirsiniz. Fonksiyon her bir kolona bakarak, n_bins sayısı kadar sınıfa bölecek ve değerlerin hangi sınıfa ait olduğunu bularak bu sayıyla temsil edecektir."
   ]
  },
  {
   "cell_type": "code",
   "execution_count": 106,
   "metadata": {},
   "outputs": [
    {
     "data": {
      "text/plain": [
       "array([[0., 0., 1.],\n",
       "       [0., 1., 1.],\n",
       "       [1., 0., 1.]])"
      ]
     },
     "execution_count": 106,
     "metadata": {},
     "output_type": "execute_result"
    }
   ],
   "source": [
    "binarizer = preprocessing.Binarizer(threshold = 5.1) #5.1 üzerindeki tüm degerler 1 olacak.\n",
    "binarizer.transform(X)"
   ]
  },
  {
   "cell_type": "markdown",
   "metadata": {},
   "source": [
    "---"
   ]
  },
  {
   "cell_type": "markdown",
   "metadata": {},
   "source": [
    "# Feature Selection"
   ]
  },
  {
   "cell_type": "markdown",
   "metadata": {},
   "source": [
    "Modelinizin iyi bir performans göstermesi için boyutsallığının azaltılması ve güçlü ilişkilere sahip parametrelerin, performansı kötü etkileyecek diğer parametrelerden ayrılması gerekir. Çünkü bu öznitelikler (features) modele bir bilgi getirmiyor olabilirler.\n",
    "\n",
    "Pekala boyut düşürmenin veya öznitelik azaltmanın yararları nedir:\n",
    "\n",
    " - Daha yüksek doğruluk oranı\n",
    " - Overfitting probleminin önüne geçmek.\n",
    " - Model eğitim süresinin kısaltılması.\n",
    " - Daha etkin bir görselleştirme\n",
    " - Daha açıklanabilir bir model."
   ]
  },
  {
   "cell_type": "markdown",
   "metadata": {},
   "source": [
    "## Veri Seti"
   ]
  },
  {
   "cell_type": "code",
   "execution_count": 111,
   "metadata": {},
   "outputs": [
    {
     "data": {
      "text/html": [
       "<div>\n",
       "<style scoped>\n",
       "    .dataframe tbody tr th:only-of-type {\n",
       "        vertical-align: middle;\n",
       "    }\n",
       "\n",
       "    .dataframe tbody tr th {\n",
       "        vertical-align: top;\n",
       "    }\n",
       "\n",
       "    .dataframe thead th {\n",
       "        text-align: right;\n",
       "    }\n",
       "</style>\n",
       "<table border=\"1\" class=\"dataframe\">\n",
       "  <thead>\n",
       "    <tr style=\"text-align: right;\">\n",
       "      <th></th>\n",
       "      <th>class</th>\n",
       "      <th>cap-shape</th>\n",
       "      <th>cap-surface</th>\n",
       "      <th>cap-color</th>\n",
       "      <th>bruises</th>\n",
       "      <th>odor</th>\n",
       "      <th>gill-attachment</th>\n",
       "      <th>gill-spacing</th>\n",
       "      <th>gill-size</th>\n",
       "      <th>gill-color</th>\n",
       "      <th>...</th>\n",
       "      <th>stalk-surface-below-ring</th>\n",
       "      <th>stalk-color-above-ring</th>\n",
       "      <th>stalk-color-below-ring</th>\n",
       "      <th>veil-type</th>\n",
       "      <th>veil-color</th>\n",
       "      <th>ring-number</th>\n",
       "      <th>ring-type</th>\n",
       "      <th>spore-print-color</th>\n",
       "      <th>population</th>\n",
       "      <th>habitat</th>\n",
       "    </tr>\n",
       "  </thead>\n",
       "  <tbody>\n",
       "    <tr>\n",
       "      <th>0</th>\n",
       "      <td>p</td>\n",
       "      <td>x</td>\n",
       "      <td>s</td>\n",
       "      <td>n</td>\n",
       "      <td>t</td>\n",
       "      <td>p</td>\n",
       "      <td>f</td>\n",
       "      <td>c</td>\n",
       "      <td>n</td>\n",
       "      <td>k</td>\n",
       "      <td>...</td>\n",
       "      <td>s</td>\n",
       "      <td>w</td>\n",
       "      <td>w</td>\n",
       "      <td>p</td>\n",
       "      <td>w</td>\n",
       "      <td>o</td>\n",
       "      <td>p</td>\n",
       "      <td>k</td>\n",
       "      <td>s</td>\n",
       "      <td>u</td>\n",
       "    </tr>\n",
       "    <tr>\n",
       "      <th>1</th>\n",
       "      <td>e</td>\n",
       "      <td>x</td>\n",
       "      <td>s</td>\n",
       "      <td>y</td>\n",
       "      <td>t</td>\n",
       "      <td>a</td>\n",
       "      <td>f</td>\n",
       "      <td>c</td>\n",
       "      <td>b</td>\n",
       "      <td>k</td>\n",
       "      <td>...</td>\n",
       "      <td>s</td>\n",
       "      <td>w</td>\n",
       "      <td>w</td>\n",
       "      <td>p</td>\n",
       "      <td>w</td>\n",
       "      <td>o</td>\n",
       "      <td>p</td>\n",
       "      <td>n</td>\n",
       "      <td>n</td>\n",
       "      <td>g</td>\n",
       "    </tr>\n",
       "    <tr>\n",
       "      <th>2</th>\n",
       "      <td>e</td>\n",
       "      <td>b</td>\n",
       "      <td>s</td>\n",
       "      <td>w</td>\n",
       "      <td>t</td>\n",
       "      <td>l</td>\n",
       "      <td>f</td>\n",
       "      <td>c</td>\n",
       "      <td>b</td>\n",
       "      <td>n</td>\n",
       "      <td>...</td>\n",
       "      <td>s</td>\n",
       "      <td>w</td>\n",
       "      <td>w</td>\n",
       "      <td>p</td>\n",
       "      <td>w</td>\n",
       "      <td>o</td>\n",
       "      <td>p</td>\n",
       "      <td>n</td>\n",
       "      <td>n</td>\n",
       "      <td>m</td>\n",
       "    </tr>\n",
       "    <tr>\n",
       "      <th>3</th>\n",
       "      <td>p</td>\n",
       "      <td>x</td>\n",
       "      <td>y</td>\n",
       "      <td>w</td>\n",
       "      <td>t</td>\n",
       "      <td>p</td>\n",
       "      <td>f</td>\n",
       "      <td>c</td>\n",
       "      <td>n</td>\n",
       "      <td>n</td>\n",
       "      <td>...</td>\n",
       "      <td>s</td>\n",
       "      <td>w</td>\n",
       "      <td>w</td>\n",
       "      <td>p</td>\n",
       "      <td>w</td>\n",
       "      <td>o</td>\n",
       "      <td>p</td>\n",
       "      <td>k</td>\n",
       "      <td>s</td>\n",
       "      <td>u</td>\n",
       "    </tr>\n",
       "    <tr>\n",
       "      <th>4</th>\n",
       "      <td>e</td>\n",
       "      <td>x</td>\n",
       "      <td>s</td>\n",
       "      <td>g</td>\n",
       "      <td>f</td>\n",
       "      <td>n</td>\n",
       "      <td>f</td>\n",
       "      <td>w</td>\n",
       "      <td>b</td>\n",
       "      <td>k</td>\n",
       "      <td>...</td>\n",
       "      <td>s</td>\n",
       "      <td>w</td>\n",
       "      <td>w</td>\n",
       "      <td>p</td>\n",
       "      <td>w</td>\n",
       "      <td>o</td>\n",
       "      <td>e</td>\n",
       "      <td>n</td>\n",
       "      <td>a</td>\n",
       "      <td>g</td>\n",
       "    </tr>\n",
       "  </tbody>\n",
       "</table>\n",
       "<p>5 rows × 23 columns</p>\n",
       "</div>"
      ],
      "text/plain": [
       "  class cap-shape cap-surface cap-color bruises odor gill-attachment  \\\n",
       "0     p         x           s         n       t    p               f   \n",
       "1     e         x           s         y       t    a               f   \n",
       "2     e         b           s         w       t    l               f   \n",
       "3     p         x           y         w       t    p               f   \n",
       "4     e         x           s         g       f    n               f   \n",
       "\n",
       "  gill-spacing gill-size gill-color  ... stalk-surface-below-ring  \\\n",
       "0            c         n          k  ...                        s   \n",
       "1            c         b          k  ...                        s   \n",
       "2            c         b          n  ...                        s   \n",
       "3            c         n          n  ...                        s   \n",
       "4            w         b          k  ...                        s   \n",
       "\n",
       "  stalk-color-above-ring stalk-color-below-ring veil-type veil-color  \\\n",
       "0                      w                      w         p          w   \n",
       "1                      w                      w         p          w   \n",
       "2                      w                      w         p          w   \n",
       "3                      w                      w         p          w   \n",
       "4                      w                      w         p          w   \n",
       "\n",
       "  ring-number ring-type spore-print-color population habitat  \n",
       "0           o         p                 k          s       u  \n",
       "1           o         p                 n          n       g  \n",
       "2           o         p                 n          n       m  \n",
       "3           o         p                 k          s       u  \n",
       "4           o         e                 n          a       g  \n",
       "\n",
       "[5 rows x 23 columns]"
      ]
     },
     "execution_count": 111,
     "metadata": {},
     "output_type": "execute_result"
    }
   ],
   "source": [
    "import pandas as pd\n",
    "from sklearn.preprocessing import LabelEncoder, StandardScaler\n",
    "from sklearn.model_selection import train_test_split\n",
    "\n",
    "data = pd.read_csv(\"mushrooms.csv\")\n",
    "data.head()"
   ]
  },
  {
   "cell_type": "code",
   "execution_count": 139,
   "metadata": {},
   "outputs": [
    {
     "name": "stdout",
     "output_type": "stream",
     "text": [
      "<class 'pandas.core.frame.DataFrame'>\n",
      "RangeIndex: 8124 entries, 0 to 8123\n",
      "Data columns (total 23 columns):\n",
      " #   Column                    Non-Null Count  Dtype \n",
      "---  ------                    --------------  ----- \n",
      " 0   class                     8124 non-null   object\n",
      " 1   cap-shape                 8124 non-null   object\n",
      " 2   cap-surface               8124 non-null   object\n",
      " 3   cap-color                 8124 non-null   object\n",
      " 4   bruises                   8124 non-null   object\n",
      " 5   odor                      8124 non-null   object\n",
      " 6   gill-attachment           8124 non-null   object\n",
      " 7   gill-spacing              8124 non-null   object\n",
      " 8   gill-size                 8124 non-null   object\n",
      " 9   gill-color                8124 non-null   object\n",
      " 10  stalk-shape               8124 non-null   object\n",
      " 11  stalk-root                8124 non-null   object\n",
      " 12  stalk-surface-above-ring  8124 non-null   object\n",
      " 13  stalk-surface-below-ring  8124 non-null   object\n",
      " 14  stalk-color-above-ring    8124 non-null   object\n",
      " 15  stalk-color-below-ring    8124 non-null   object\n",
      " 16  veil-type                 8124 non-null   object\n",
      " 17  veil-color                8124 non-null   object\n",
      " 18  ring-number               8124 non-null   object\n",
      " 19  ring-type                 8124 non-null   object\n",
      " 20  spore-print-color         8124 non-null   object\n",
      " 21  population                8124 non-null   object\n",
      " 22  habitat                   8124 non-null   object\n",
      "dtypes: object(23)\n",
      "memory usage: 1.4+ MB\n"
     ]
    }
   ],
   "source": [
    "data.info()"
   ]
  },
  {
   "cell_type": "code",
   "execution_count": 112,
   "metadata": {},
   "outputs": [],
   "source": [
    "X = data.drop([\"class\"], axis=1)"
   ]
  },
  {
   "cell_type": "code",
   "execution_count": 122,
   "metadata": {},
   "outputs": [],
   "source": [
    "y = data[\"class\"]"
   ]
  },
  {
   "cell_type": "code",
   "execution_count": 118,
   "metadata": {},
   "outputs": [],
   "source": [
    "X_encoded = pd.get_dummies(X, prefix_sep=\"_\")"
   ]
  },
  {
   "cell_type": "code",
   "execution_count": 123,
   "metadata": {},
   "outputs": [],
   "source": [
    "y_encoded = LabelEncoder().fit_transform(y)"
   ]
  },
  {
   "cell_type": "code",
   "execution_count": 126,
   "metadata": {},
   "outputs": [],
   "source": [
    "X_scaled = StandardScaler().fit_transform(X_encoded)"
   ]
  },
  {
   "cell_type": "code",
   "execution_count": 129,
   "metadata": {},
   "outputs": [],
   "source": [
    "X_train, X_test, y_train, y_test = train_test_split(X_scaled, y_encoded, test_size = 0.30, random_state=101)"
   ]
  },
  {
   "cell_type": "markdown",
   "metadata": {},
   "source": [
    "## Feature Importance"
   ]
  },
  {
   "cell_type": "markdown",
   "metadata": {},
   "source": [
    "Karar ağaçları çeşitli özniteliklerin önem derecelerini sıralamak için kullanılabilir. Karar ağaçlarındaki dallanma bildiğiniz gibi özniteliklerin sınıflandırıcılığıyla belirlenir. Bu yüzden daha çok kullanılan nodelar daha yüksek öneme sahip olabilirler."
   ]
  },
  {
   "cell_type": "code",
   "execution_count": 135,
   "metadata": {},
   "outputs": [],
   "source": [
    "from sklearn.metrics import classification_report, confusion_matrix\n",
    "from sklearn.ensemble import RandomForestClassifier\n",
    "import time"
   ]
  },
  {
   "cell_type": "code",
   "execution_count": 136,
   "metadata": {},
   "outputs": [
    {
     "name": "stdout",
     "output_type": "stream",
     "text": [
      "2.28125\n"
     ]
    }
   ],
   "source": [
    "start = time.process_time()\n",
    "\n",
    "model = RandomForestClassifier(n_estimators=700).fit(X_train, y_train)\n",
    "\n",
    "print(time.process_time() - start)"
   ]
  },
  {
   "cell_type": "code",
   "execution_count": 137,
   "metadata": {},
   "outputs": [
    {
     "name": "stdout",
     "output_type": "stream",
     "text": [
      "[[1274    0]\n",
      " [   0 1164]]\n",
      "              precision    recall  f1-score   support\n",
      "\n",
      "           0       1.00      1.00      1.00      1274\n",
      "           1       1.00      1.00      1.00      1164\n",
      "\n",
      "    accuracy                           1.00      2438\n",
      "   macro avg       1.00      1.00      1.00      2438\n",
      "weighted avg       1.00      1.00      1.00      2438\n",
      "\n"
     ]
    }
   ],
   "source": [
    "preds = model.predict(X_test)\n",
    "\n",
    "print(confusion_matrix(y_test, preds))\n",
    "print(classification_report(y_test, preds))"
   ]
  },
  {
   "cell_type": "markdown",
   "metadata": {},
   "source": [
    "Tam bir başarı oranına sahibiz fakat burada bakacağımız konu aslında hangi niteliklerin ne kadar önemli olduğu. Bu yüzden feature importance metoduyla eğitilmiş modelin en önemli olduğu 10 parametreyi görselleştiriyorum."
   ]
  },
  {
   "cell_type": "code",
   "execution_count": 138,
   "metadata": {},
   "outputs": [
    {
     "data": {
      "text/plain": [
       "<matplotlib.axes._subplots.AxesSubplot at 0x1dd7066e388>"
      ]
     },
     "execution_count": 138,
     "metadata": {},
     "output_type": "execute_result"
    },
    {
     "data": {
      "image/png": "[encoded data removed]",
      "text/plain": [
       "<Figure size 432x288 with 1 Axes>"
      ]
     },
     "metadata": {
      "needs_background": "light"
     },
     "output_type": "display_data"
    }
   ],
   "source": [
    "import matplotlib.pyplot as plt\n",
    "from matplotlib.pyplot import figure\n",
    "\n",
    "feature_imp = pd.Series(model.feature_importances_, index= X_encoded.columns)\n",
    "feature_imp.nlargest(10).plot(kind='barh')"
   ]
  },
  {
   "cell_type": "code",
   "execution_count": 141,
   "metadata": {},
   "outputs": [
    {
     "data": {
      "text/plain": [
       "['odor_n', 'odor_f', 'gill-size_b', 'gill-size_n']"
      ]
     },
     "execution_count": 141,
     "metadata": {},
     "output_type": "execute_result"
    }
   ],
   "source": [
    "best_feat = feature_imp.nlargest(4).index.to_list()\n",
    "best_feat"
   ]
  },
  {
   "cell_type": "code",
   "execution_count": 142,
   "metadata": {},
   "outputs": [],
   "source": [
    "X_reduced = X_encoded[best_feat]"
   ]
  },
  {
   "cell_type": "code",
   "execution_count": 144,
   "metadata": {},
   "outputs": [],
   "source": [
    "Xr_scaled = StandardScaler().fit_transform(X_reduced)"
   ]
  },
  {
   "cell_type": "code",
   "execution_count": 145,
   "metadata": {},
   "outputs": [],
   "source": [
    "Xr_train, Xr_test, yr_train, yr_test = train_test_split(Xr_scaled, y, test_size = 0.30, \n",
    "                                                        random_state = 101)"
   ]
  },
  {
   "cell_type": "code",
   "execution_count": 149,
   "metadata": {},
   "outputs": [
    {
     "name": "stdout",
     "output_type": "stream",
     "text": [
      "1.34375\n"
     ]
    }
   ],
   "source": [
    "start = time.process_time()\n",
    "rmodel = RandomForestClassifier(n_estimators=700).fit(Xr_train, yr_train)\n",
    "print(time.process_time() - start)"
   ]
  },
  {
   "cell_type": "code",
   "execution_count": 150,
   "metadata": {},
   "outputs": [
    {
     "name": "stdout",
     "output_type": "stream",
     "text": [
      "[[1248   26]\n",
      " [  53 1111]]\n",
      "              precision    recall  f1-score   support\n",
      "\n",
      "           e       0.96      0.98      0.97      1274\n",
      "           p       0.98      0.95      0.97      1164\n",
      "\n",
      "    accuracy                           0.97      2438\n",
      "   macro avg       0.97      0.97      0.97      2438\n",
      "weighted avg       0.97      0.97      0.97      2438\n",
      "\n"
     ]
    }
   ],
   "source": [
    "rpred = rmodel.predict(Xr_test)\n",
    "print(confusion_matrix(yr_test, rpred))\n",
    "print(classification_report(yr_test, rpred))"
   ]
  },
  {
   "cell_type": "markdown",
   "metadata": {},
   "source": [
    "Çok açık bir şekilde görebiliriz ki, eğitim süresi yarı yarıya inerken accuracy'den çok az kaybettik. Aslına bakarsanız bu çok küçük bir veriseti kazancımız 1 saniye kadar fakat bunu milyonlarca satıra sahip bir verisetiyle saatlerce eğittiğiniz bir model olduğunu düşünürseniz kesinlikle gireceğiniz bir tradeoff olacaktır."
   ]
  },
  {
   "cell_type": "markdown",
   "metadata": {},
   "source": [
    "## Correlation Matrix"
   ]
  },
  {
   "cell_type": "code",
   "execution_count": 151,
   "metadata": {},
   "outputs": [],
   "source": [
    "import seaborn as sns\n",
    "\n",
    "X = data.drop(['class'], axis=1)\n",
    "y = data['class']\n",
    "X_encoded = pd.get_dummies(X, prefix_sep=\"_\")\n",
    "y_encoded = LabelEncoder().fit_transform(y)\n",
    "X_encoded[\"Class\"] = y_encoded"
   ]
  },
  {
   "cell_type": "code",
   "execution_count": 157,
   "metadata": {},
   "outputs": [
    {
     "data": {
      "image/png": "[encoded data removed]",
      "text/plain": [
       "<Figure size 432x288 with 2 Axes>"
      ]
     },
     "metadata": {
      "needs_background": "light"
     },
     "output_type": "display_data"
    }
   ],
   "source": [
    "sns.heatmap(X_encoded.iloc[:, -7:].corr(), annot=True);"
   ]
  },
  {
   "cell_type": "markdown",
   "metadata": {},
   "source": [
    "Belirttiğimiz gibi eksi ve artı değerler güçlü korelasyonu ifade ediyor, burada sayının pozitif ve negatif olması ilişkinin ters veya doğru orantılı olarak değişmesi ile alakalı, her ikisi de bizim için iyi featurelar olabilir bu yüzden dataframe'in mutlak değerini alarak en yüksek değerli olanları getireceğiz."
   ]
  },
  {
   "cell_type": "code",
   "execution_count": 158,
   "metadata": {},
   "outputs": [
    {
     "data": {
      "text/plain": [
       "Class                         1.000000\n",
       "odor_n                        0.785557\n",
       "odor_f                        0.623842\n",
       "stalk-surface-above-ring_k    0.587658\n",
       "stalk-surface-below-ring_k    0.573524\n",
       "ring-type_p                   0.540469\n",
       "gill-size_n                   0.540024\n",
       "gill-size_b                   0.540024\n",
       "gill-color_b                  0.538808\n",
       "bruises_f                     0.501530\n",
       "Name: Class, dtype: float64"
      ]
     },
     "execution_count": 158,
     "metadata": {},
     "output_type": "execute_result"
    }
   ],
   "source": [
    "X_encoded.corr().abs()[\"Class\"].nlargest(10)"
   ]
  },
  {
   "cell_type": "markdown",
   "metadata": {},
   "source": [
    "Bu zamana kadar yazdığımız kısmın sonunda index metodunu ekleyerek sadece kolon isimlerini istiyorum ve bunu ana datasetimizden başka bir değişkene aktarıyorum. Birazdan sadece bu kısmı kullanıyor olacağız, bu sayede daha okunaklı ve en yüksek 10 korelasyon değerine sahip kolon ile birlikte çalışıyor olacağız."
   ]
  },
  {
   "cell_type": "code",
   "execution_count": 159,
   "metadata": {},
   "outputs": [
    {
     "data": {
      "text/html": [
       "<div>\n",
       "<style scoped>\n",
       "    .dataframe tbody tr th:only-of-type {\n",
       "        vertical-align: middle;\n",
       "    }\n",
       "\n",
       "    .dataframe tbody tr th {\n",
       "        vertical-align: top;\n",
       "    }\n",
       "\n",
       "    .dataframe thead th {\n",
       "        text-align: right;\n",
       "    }\n",
       "</style>\n",
       "<table border=\"1\" class=\"dataframe\">\n",
       "  <thead>\n",
       "    <tr style=\"text-align: right;\">\n",
       "      <th></th>\n",
       "      <th>Class</th>\n",
       "      <th>odor_n</th>\n",
       "      <th>odor_f</th>\n",
       "      <th>stalk-surface-above-ring_k</th>\n",
       "      <th>stalk-surface-below-ring_k</th>\n",
       "      <th>ring-type_p</th>\n",
       "      <th>gill-size_n</th>\n",
       "      <th>gill-size_b</th>\n",
       "      <th>gill-color_b</th>\n",
       "      <th>bruises_f</th>\n",
       "    </tr>\n",
       "  </thead>\n",
       "  <tbody>\n",
       "    <tr>\n",
       "      <th>Class</th>\n",
       "      <td>1.000000</td>\n",
       "      <td>-0.785557</td>\n",
       "      <td>0.623842</td>\n",
       "      <td>0.587658</td>\n",
       "      <td>0.573524</td>\n",
       "      <td>-0.540469</td>\n",
       "      <td>0.540024</td>\n",
       "      <td>-0.540024</td>\n",
       "      <td>0.538808</td>\n",
       "      <td>0.501530</td>\n",
       "    </tr>\n",
       "    <tr>\n",
       "      <th>odor_n</th>\n",
       "      <td>-0.785557</td>\n",
       "      <td>1.000000</td>\n",
       "      <td>-0.527269</td>\n",
       "      <td>-0.466499</td>\n",
       "      <td>-0.471920</td>\n",
       "      <td>0.352151</td>\n",
       "      <td>-0.457211</td>\n",
       "      <td>0.457211</td>\n",
       "      <td>-0.455399</td>\n",
       "      <td>-0.285171</td>\n",
       "    </tr>\n",
       "    <tr>\n",
       "      <th>odor_f</th>\n",
       "      <td>0.623842</td>\n",
       "      <td>-0.527269</td>\n",
       "      <td>1.000000</td>\n",
       "      <td>0.584189</td>\n",
       "      <td>0.600449</td>\n",
       "      <td>-0.427514</td>\n",
       "      <td>-0.055394</td>\n",
       "      <td>0.055394</td>\n",
       "      <td>0.079360</td>\n",
       "      <td>0.344642</td>\n",
       "    </tr>\n",
       "    <tr>\n",
       "      <th>stalk-surface-above-ring_k</th>\n",
       "      <td>0.587658</td>\n",
       "      <td>-0.466499</td>\n",
       "      <td>0.584189</td>\n",
       "      <td>1.000000</td>\n",
       "      <td>0.677074</td>\n",
       "      <td>-0.549484</td>\n",
       "      <td>0.095225</td>\n",
       "      <td>-0.095225</td>\n",
       "      <td>0.237814</td>\n",
       "      <td>0.541494</td>\n",
       "    </tr>\n",
       "    <tr>\n",
       "      <th>stalk-surface-below-ring_k</th>\n",
       "      <td>0.573524</td>\n",
       "      <td>-0.471920</td>\n",
       "      <td>0.600449</td>\n",
       "      <td>0.677074</td>\n",
       "      <td>1.000000</td>\n",
       "      <td>-0.536122</td>\n",
       "      <td>0.089569</td>\n",
       "      <td>-0.089569</td>\n",
       "      <td>0.249536</td>\n",
       "      <td>0.530549</td>\n",
       "    </tr>\n",
       "    <tr>\n",
       "      <th>ring-type_p</th>\n",
       "      <td>-0.540469</td>\n",
       "      <td>0.352151</td>\n",
       "      <td>-0.427514</td>\n",
       "      <td>-0.549484</td>\n",
       "      <td>-0.536122</td>\n",
       "      <td>1.000000</td>\n",
       "      <td>-0.308466</td>\n",
       "      <td>0.308466</td>\n",
       "      <td>-0.507885</td>\n",
       "      <td>-0.767036</td>\n",
       "    </tr>\n",
       "    <tr>\n",
       "      <th>gill-size_n</th>\n",
       "      <td>0.540024</td>\n",
       "      <td>-0.457211</td>\n",
       "      <td>-0.055394</td>\n",
       "      <td>0.095225</td>\n",
       "      <td>0.089569</td>\n",
       "      <td>-0.308466</td>\n",
       "      <td>1.000000</td>\n",
       "      <td>-1.000000</td>\n",
       "      <td>0.776903</td>\n",
       "      <td>0.369596</td>\n",
       "    </tr>\n",
       "    <tr>\n",
       "      <th>gill-size_b</th>\n",
       "      <td>-0.540024</td>\n",
       "      <td>0.457211</td>\n",
       "      <td>0.055394</td>\n",
       "      <td>-0.095225</td>\n",
       "      <td>-0.089569</td>\n",
       "      <td>0.308466</td>\n",
       "      <td>-1.000000</td>\n",
       "      <td>1.000000</td>\n",
       "      <td>-0.776903</td>\n",
       "      <td>-0.369596</td>\n",
       "    </tr>\n",
       "    <tr>\n",
       "      <th>gill-color_b</th>\n",
       "      <td>0.538808</td>\n",
       "      <td>-0.455399</td>\n",
       "      <td>0.079360</td>\n",
       "      <td>0.237814</td>\n",
       "      <td>0.249536</td>\n",
       "      <td>-0.507885</td>\n",
       "      <td>0.776903</td>\n",
       "      <td>-0.776903</td>\n",
       "      <td>1.000000</td>\n",
       "      <td>0.438292</td>\n",
       "    </tr>\n",
       "    <tr>\n",
       "      <th>bruises_f</th>\n",
       "      <td>0.501530</td>\n",
       "      <td>-0.285171</td>\n",
       "      <td>0.344642</td>\n",
       "      <td>0.541494</td>\n",
       "      <td>0.530549</td>\n",
       "      <td>-0.767036</td>\n",
       "      <td>0.369596</td>\n",
       "      <td>-0.369596</td>\n",
       "      <td>0.438292</td>\n",
       "      <td>1.000000</td>\n",
       "    </tr>\n",
       "  </tbody>\n",
       "</table>\n",
       "</div>"
      ],
      "text/plain": [
       "                               Class    odor_n    odor_f  \\\n",
       "Class                       1.000000 -0.785557  0.623842   \n",
       "odor_n                     -0.785557  1.000000 -0.527269   \n",
       "odor_f                      0.623842 -0.527269  1.000000   \n",
       "stalk-surface-above-ring_k  0.587658 -0.466499  0.584189   \n",
       "stalk-surface-below-ring_k  0.573524 -0.471920  0.600449   \n",
       "ring-type_p                -0.540469  0.352151 -0.427514   \n",
       "gill-size_n                 0.540024 -0.457211 -0.055394   \n",
       "gill-size_b                -0.540024  0.457211  0.055394   \n",
       "gill-color_b                0.538808 -0.455399  0.079360   \n",
       "bruises_f                   0.501530 -0.285171  0.344642   \n",
       "\n",
       "                            stalk-surface-above-ring_k  \\\n",
       "Class                                         0.587658   \n",
       "odor_n                                       -0.466499   \n",
       "odor_f                                        0.584189   \n",
       "stalk-surface-above-ring_k                    1.000000   \n",
       "stalk-surface-below-ring_k                    0.677074   \n",
       "ring-type_p                                  -0.549484   \n",
       "gill-size_n                                   0.095225   \n",
       "gill-size_b                                  -0.095225   \n",
       "gill-color_b                                  0.237814   \n",
       "bruises_f                                     0.541494   \n",
       "\n",
       "                            stalk-surface-below-ring_k  ring-type_p  \\\n",
       "Class                                         0.573524    -0.540469   \n",
       "odor_n                                       -0.471920     0.352151   \n",
       "odor_f                                        0.600449    -0.427514   \n",
       "stalk-surface-above-ring_k                    0.677074    -0.549484   \n",
       "stalk-surface-below-ring_k                    1.000000    -0.536122   \n",
       "ring-type_p                                  -0.536122     1.000000   \n",
       "gill-size_n                                   0.089569    -0.308466   \n",
       "gill-size_b                                  -0.089569     0.308466   \n",
       "gill-color_b                                  0.249536    -0.507885   \n",
       "bruises_f                                     0.530549    -0.767036   \n",
       "\n",
       "                            gill-size_n  gill-size_b  gill-color_b  bruises_f  \n",
       "Class                          0.540024    -0.540024      0.538808   0.501530  \n",
       "odor_n                        -0.457211     0.457211     -0.455399  -0.285171  \n",
       "odor_f                        -0.055394     0.055394      0.079360   0.344642  \n",
       "stalk-surface-above-ring_k     0.095225    -0.095225      0.237814   0.541494  \n",
       "stalk-surface-below-ring_k     0.089569    -0.089569      0.249536   0.530549  \n",
       "ring-type_p                   -0.308466     0.308466     -0.507885  -0.767036  \n",
       "gill-size_n                    1.000000    -1.000000      0.776903   0.369596  \n",
       "gill-size_b                   -1.000000     1.000000     -0.776903  -0.369596  \n",
       "gill-color_b                   0.776903    -0.776903      1.000000   0.438292  \n",
       "bruises_f                      0.369596    -0.369596      0.438292   1.000000  "
      ]
     },
     "execution_count": 159,
     "metadata": {},
     "output_type": "execute_result"
    }
   ],
   "source": [
    "X_reduced_col_names = X_encoded.corr().abs()[\"Class\"].nlargest(10).index\n",
    "X_encoded[X_reduced_col_names].corr()"
   ]
  },
  {
   "cell_type": "code",
   "execution_count": 165,
   "metadata": {},
   "outputs": [
    {
     "data": {
      "text/plain": [
       "<matplotlib.axes._subplots.AxesSubplot at 0x1dd79b81d08>"
      ]
     },
     "execution_count": 165,
     "metadata": {},
     "output_type": "execute_result"
    },
    {
     "data": {
      "image/png": "[encoded data removed]",
      "text/plain": [
       "<Figure size 700x700 with 2 Axes>"
      ]
     },
     "metadata": {
      "needs_background": "light"
     },
     "output_type": "display_data"
    }
   ],
   "source": [
    "plt.figure(figsize=(7, 7), dpi=100)\n",
    "sns.heatmap(X_encoded[X_reduced_col_names].corr().abs(), annot=True)"
   ]
  },
  {
   "cell_type": "code",
   "execution_count": null,
   "metadata": {},
   "outputs": [],
   "source": []
  }
 ],
 "metadata": {
  "kernelspec": {
   "display_name": "Python 3",
   "language": "python",
   "name": "python3"
  },
  "language_info": {
   "codemirror_mode": {
    "name": "ipython",
    "version": 3
   },
   "file_extension": ".py",
   "mimetype": "text/x-python",
   "name": "python",
   "nbconvert_exporter": "python",
   "pygments_lexer": "ipython3",
   "version": "3.7.6"
  }
 },
 "nbformat": 4,
 "nbformat_minor": 4
}
