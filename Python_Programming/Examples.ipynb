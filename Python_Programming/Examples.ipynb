{
 "cells": [
  {
   "cell_type": "markdown",
   "metadata": {},
   "source": [
    "# **Even-Odd**"
   ]
  },
  {
   "cell_type": "code",
   "execution_count": 1,
   "metadata": {},
   "outputs": [],
   "source": [
    "liste = list(range(10))"
   ]
  },
  {
   "cell_type": "code",
   "execution_count": 2,
   "metadata": {},
   "outputs": [
    {
     "name": "stdout",
     "output_type": "stream",
     "text": [
      "[0, 1, 2, 3, 4, 5, 6, 7, 8, 9]\n"
     ]
    }
   ],
   "source": [
    "print(liste)"
   ]
  },
  {
   "cell_type": "code",
   "execution_count": 6,
   "metadata": {},
   "outputs": [
    {
     "name": "stdout",
     "output_type": "stream",
     "text": [
      "Tek Sayilar: [1, 3, 5, 7, 9]\n",
      "Cift Sayilar: [2, 4, 6, 8]\n"
     ]
    }
   ],
   "source": [
    "tek_sayilar = []\n",
    "cift_sayilar= []\n",
    "\n",
    "for i in liste:\n",
    "    if ((i)%2) == 0 and i != 0:\n",
    "        cift_sayilar.extend([i])\n",
    "    elif i != 0:\n",
    "        tek_sayilar.extend([i])\n",
    "        \n",
    "print(\"Tek Sayilar: \" + str(tek_sayilar))\n",
    "print(\"Cift Sayilar: \" + str(cift_sayilar))"
   ]
  },
  {
   "cell_type": "code",
   "execution_count": null,
   "metadata": {},
   "outputs": [],
   "source": []
  },
  {
   "cell_type": "markdown",
   "metadata": {},
   "source": [
    "### **List Comprehension ile**"
   ]
  },
  {
   "cell_type": "code",
   "execution_count": 42,
   "metadata": {},
   "outputs": [
    {
     "name": "stdout",
     "output_type": "stream",
     "text": [
      "Cift sayilar: [2, 4, 6, 8, 10]\n",
      "Tek sayilar: [1, 3, 5, 7, 9]\n"
     ]
    }
   ],
   "source": [
    "cift_sayi = [x for x in range(1,11) if x%2 == 0]\n",
    "tek_sayi = [x for x in range(1,11) if x%2 == 1]\n",
    "print(\"Cift sayilar: \" + str(cift_sayi) + \"\\nTek sayilar: \" + str(tek_sayi))"
   ]
  },
  {
   "cell_type": "code",
   "execution_count": null,
   "metadata": {},
   "outputs": [],
   "source": []
  },
  {
   "cell_type": "code",
   "execution_count": 56,
   "metadata": {},
   "outputs": [
    {
     "name": "stdout",
     "output_type": "stream",
     "text": [
      "Cift Sayilar= [2, 4, 6, 8]\n",
      "Tek Sayilar= [1, 3, 5, 7, 9]\n"
     ]
    }
   ],
   "source": [
    "print(\"Cift Sayilar= \" + str([i for i in range(10) if i%2==0 and i!=0])\n",
    "      +\"\\nTek Sayilar= \" + str([i for i in range(10) if i%2 != 0]))"
   ]
  },
  {
   "cell_type": "code",
   "execution_count": null,
   "metadata": {},
   "outputs": [],
   "source": []
  },
  {
   "cell_type": "code",
   "execution_count": 41,
   "metadata": {},
   "outputs": [
    {
     "name": "stdout",
     "output_type": "stream",
     "text": [
      "1 tek\n",
      "2 cift\n",
      "3 tek\n",
      "4 cift\n",
      "5 tek\n",
      "6 cift\n",
      "7 tek\n",
      "8 cift\n",
      "9 tek\n",
      "10 cift\n"
     ]
    }
   ],
   "source": [
    "even_odd = [print(str(x)+\" cift\") if x%2==0 else print(str(x)+\" tek\") for x in range(1,11)]"
   ]
  },
  {
   "cell_type": "code",
   "execution_count": null,
   "metadata": {},
   "outputs": [],
   "source": []
  },
  {
   "cell_type": "code",
   "execution_count": null,
   "metadata": {},
   "outputs": [],
   "source": []
  },
  {
   "cell_type": "code",
   "execution_count": null,
   "metadata": {},
   "outputs": [],
   "source": []
  },
  {
   "cell_type": "markdown",
   "metadata": {},
   "source": [
    "# **Text Analyzer**"
   ]
  },
  {
   "cell_type": "code",
   "execution_count": 9,
   "metadata": {
    "collapsed": true,
    "jupyter": {
     "outputs_hidden": true
    }
   },
   "outputs": [
    {
     "name": "stdin",
     "output_type": "stream",
     "text": [
      "Enter a filename:  test\n"
     ]
    },
    {
     "name": "stdout",
     "output_type": "stream",
     "text": [
      "\n",
      "Beautiful is better than ugly.\n",
      "Explicit is better than implicit.\n",
      "Simple is better than complex.\n",
      "Complex is better than complicated.\n",
      "Flat is better than nested.\n",
      "Sparse is better than dense.\n",
      "Readability counts.\n",
      "Special cases aren't special enough to break the rules.\n",
      "Although practicality beats purity.\n",
      "Errors should never pass silently.\n",
      "Unless explicitly silenced.\n",
      "In the face of ambiguity, refuse the temptation to guess.\n",
      "There should be one-- and preferably only one --obvious way to do it.\n",
      "Although that way may not be obvious at first unless you're Dutch.\n",
      "Now is better than never.\n",
      "Although never is often better than rightnow.\n",
      "If the implementation is hard to explain, it's a bad idea.\n",
      "If the implementation is easy to explain, it may be a good idea.\n",
      "Namespaces are one honking great idea -- let's do more of those!\n"
     ]
    }
   ],
   "source": [
    "filename = input(\"Enter a filename: \")\n",
    "text = open(filename, \"w+\")\n",
    "\n",
    "text.write(\"\"\"\\nBeautiful is better than ugly.\n",
    "Explicit is better than implicit.\n",
    "Simple is better than complex.\n",
    "Complex is better than complicated.\n",
    "Flat is better than nested.\n",
    "Sparse is better than dense.\n",
    "Readability counts.\n",
    "Special cases aren't special enough to break the rules.\n",
    "Although practicality beats purity.\n",
    "Errors should never pass silently.\n",
    "Unless explicitly silenced.\n",
    "In the face of ambiguity, refuse the temptation to guess.\n",
    "There should be one-- and preferably only one --obvious way to do it.\n",
    "Although that way may not be obvious at first unless you're Dutch.\n",
    "Now is better than never.\n",
    "Although never is often better than rightnow.\n",
    "If the implementation is hard to explain, it's a bad idea.\n",
    "If the implementation is easy to explain, it may be a good idea.\n",
    "Namespaces are one honking great idea -- let's do more of those!\"\"\")\n",
    "\n",
    "text.close()\n",
    "\n",
    "with open(filename) as f:\n",
    "    text = f.read()\n",
    "print(text)"
   ]
  },
  {
   "cell_type": "code",
   "execution_count": 16,
   "metadata": {},
   "outputs": [
    {
     "name": "stdout",
     "output_type": "stream",
     "text": [
      "count: 50\n"
     ]
    }
   ],
   "source": [
    "def count_char(text, char):\n",
    "    count = 0\n",
    "    for c in text:\n",
    "        if c==char:\n",
    "            count+=1\n",
    "    return count\n",
    "\n",
    "print(\"count: \"+str(count_char(text, \"a\")))"
   ]
  },
  {
   "cell_type": "code",
   "execution_count": 17,
   "metadata": {},
   "outputs": [
    {
     "name": "stdout",
     "output_type": "stream",
     "text": [
      "count: 50\n"
     ]
    }
   ],
   "source": [
    "#Ayni islemi python'da yerlesik fonksiyon ile yapalim.\n",
    "def count_char(text, char):\n",
    "    return text.count(char)\n",
    "\n",
    "print(\"count: \"+str(count_char(text, \"a\")))"
   ]
  },
  {
   "cell_type": "code",
   "execution_count": 18,
   "metadata": {},
   "outputs": [
    {
     "name": "stdout",
     "output_type": "stream",
     "text": [
      "i - 5.98%\n",
      "m - 1.83%\n",
      "p - 2.44%\n",
      "l - 4.02%\n",
      "e - 10.49%\n",
      "m - 1.83%\n",
      "e - 10.49%\n",
      "n - 4.63%\n",
      "t - 9.02%\n",
      "a - 6.1%\n",
      "t - 9.02%\n",
      "i - 5.98%\n",
      "o - 5.0%\n",
      "n - 4.63%\n"
     ]
    }
   ],
   "source": [
    "for char in \"implementation\":\n",
    "    perc = 100*count_char(text, char)/len(text)\n",
    "    print(\"{0} - {1}%\".format(char, round(perc, 2)))"
   ]
  },
  {
   "cell_type": "markdown",
   "metadata": {},
   "source": [
    "### **Recursion**"
   ]
  },
  {
   "cell_type": "code",
   "execution_count": 5,
   "metadata": {},
   "outputs": [
    {
     "name": "stdout",
     "output_type": "stream",
     "text": [
      "120\n"
     ]
    }
   ],
   "source": [
    "def factorial(n):\n",
    "    if n == 1:\n",
    "        return 1\n",
    "    else:\n",
    "        return n*factorial(n-1)\n",
    "print(factorial(5))"
   ]
  },
  {
   "cell_type": "code",
   "execution_count": null,
   "metadata": {},
   "outputs": [],
   "source": []
  }
 ],
 "metadata": {
  "kernelspec": {
   "display_name": "Python 3",
   "language": "python",
   "name": "python3"
  },
  "language_info": {
   "codemirror_mode": {
    "name": "ipython",
    "version": 3
   },
   "file_extension": ".py",
   "mimetype": "text/x-python",
   "name": "python",
   "nbconvert_exporter": "python",
   "pygments_lexer": "ipython3",
   "version": "3.7.6"
  }
 },
 "nbformat": 4,
 "nbformat_minor": 4
}
