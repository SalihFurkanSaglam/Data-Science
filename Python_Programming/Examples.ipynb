{
 "cells": [
  {
   "cell_type": "markdown",
   "metadata": {},
   "source": [
    "# **Even-Odd**"
   ]
  },
  {
   "cell_type": "code",
   "execution_count": 1,
   "metadata": {},
   "outputs": [],
   "source": [
    "liste = list(range(10))"
   ]
  },
  {
   "cell_type": "code",
   "execution_count": 2,
   "metadata": {},
   "outputs": [
    {
     "name": "stdout",
     "output_type": "stream",
     "text": [
      "[0, 1, 2, 3, 4, 5, 6, 7, 8, 9]\n"
     ]
    }
   ],
   "source": [
    "print(liste)"
   ]
  },
  {
   "cell_type": "code",
   "execution_count": 6,
   "metadata": {},
   "outputs": [
    {
     "name": "stdout",
     "output_type": "stream",
     "text": [
      "Tek Sayilar: [1, 3, 5, 7, 9]\n",
      "Cift Sayilar: [2, 4, 6, 8]\n"
     ]
    }
   ],
   "source": [
    "tek_sayilar = []\n",
    "cift_sayilar= []\n",
    "\n",
    "for i in liste:\n",
    "    if ((i)%2) == 0 and i != 0:\n",
    "        cift_sayilar.extend([i])\n",
    "    elif i != 0:\n",
    "        tek_sayilar.extend([i])\n",
    "        \n",
    "print(\"Tek Sayilar: \" + str(tek_sayilar))\n",
    "print(\"Cift Sayilar: \" + str(cift_sayilar))"
   ]
  },
  {
   "cell_type": "code",
   "execution_count": null,
   "metadata": {},
   "outputs": [],
   "source": []
  },
  {
   "cell_type": "markdown",
   "metadata": {},
   "source": [
    "### **List Comprehension ile**"
   ]
  },
  {
   "cell_type": "code",
   "execution_count": 42,
   "metadata": {},
   "outputs": [
    {
     "name": "stdout",
     "output_type": "stream",
     "text": [
      "Cift sayilar: [2, 4, 6, 8, 10]\n",
      "Tek sayilar: [1, 3, 5, 7, 9]\n"
     ]
    }
   ],
   "source": [
    "cift_sayi = [x for x in range(1,11) if x%2 == 0]\n",
    "tek_sayi = [x for x in range(1,11) if x%2 == 1]\n",
    "print(\"Cift sayilar: \" + str(cift_sayi) + \"\\nTek sayilar: \" + str(tek_sayi))"
   ]
  },
  {
   "cell_type": "code",
   "execution_count": null,
   "metadata": {},
   "outputs": [],
   "source": []
  },
  {
   "cell_type": "code",
   "execution_count": 56,
   "metadata": {},
   "outputs": [
    {
     "name": "stdout",
     "output_type": "stream",
     "text": [
      "Cift Sayilar= [2, 4, 6, 8]\n",
      "Tek Sayilar= [1, 3, 5, 7, 9]\n"
     ]
    }
   ],
   "source": [
    "print(\"Cift Sayilar= \" + str([i for i in range(10) if i%2==0 and i!=0])\n",
    "      +\"\\nTek Sayilar= \" + str([i for i in range(10) if i%2 != 0]))"
   ]
  },
  {
   "cell_type": "code",
   "execution_count": null,
   "metadata": {},
   "outputs": [],
   "source": []
  },
  {
   "cell_type": "code",
   "execution_count": 33,
   "metadata": {},
   "outputs": [
    {
     "name": "stdout",
     "output_type": "stream",
     "text": [
      "1 tek\n",
      "2 cift\n",
      "3 tek\n",
      "4 cift\n",
      "5 tek\n",
      "6 cift\n",
      "7 tek\n",
      "8 cift\n",
      "9 tek\n",
      "10 cift\n"
     ]
    }
   ],
   "source": [
    "even_odd = [print(x, \"cift\") if x%2==0 else print(x,\"tek\") for x in range(1,11)]"
   ]
  },
  {
   "cell_type": "code",
   "execution_count": null,
   "metadata": {},
   "outputs": [],
   "source": []
  },
  {
   "cell_type": "code",
   "execution_count": null,
   "metadata": {},
   "outputs": [],
   "source": []
  },
  {
   "cell_type": "code",
   "execution_count": null,
   "metadata": {},
   "outputs": [],
   "source": []
  },
  {
   "cell_type": "markdown",
   "metadata": {},
   "source": [
    "# **Text Analyzer**"
   ]
  },
  {
   "cell_type": "code",
   "execution_count": 9,
   "metadata": {
    "collapsed": true,
    "jupyter": {
     "outputs_hidden": true
    }
   },
   "outputs": [
    {
     "name": "stdin",
     "output_type": "stream",
     "text": [
      "Enter a filename:  test\n"
     ]
    },
    {
     "name": "stdout",
     "output_type": "stream",
     "text": [
      "\n",
      "Beautiful is better than ugly.\n",
      "Explicit is better than implicit.\n",
      "Simple is better than complex.\n",
      "Complex is better than complicated.\n",
      "Flat is better than nested.\n",
      "Sparse is better than dense.\n",
      "Readability counts.\n",
      "Special cases aren't special enough to break the rules.\n",
      "Although practicality beats purity.\n",
      "Errors should never pass silently.\n",
      "Unless explicitly silenced.\n",
      "In the face of ambiguity, refuse the temptation to guess.\n",
      "There should be one-- and preferably only one --obvious way to do it.\n",
      "Although that way may not be obvious at first unless you're Dutch.\n",
      "Now is better than never.\n",
      "Although never is often better than rightnow.\n",
      "If the implementation is hard to explain, it's a bad idea.\n",
      "If the implementation is easy to explain, it may be a good idea.\n",
      "Namespaces are one honking great idea -- let's do more of those!\n"
     ]
    }
   ],
   "source": [
    "filename = input(\"Enter a filename: \")\n",
    "text = open(filename, \"w+\")\n",
    "\n",
    "text.write(\"\"\"\\nBeautiful is better than ugly.\n",
    "Explicit is better than implicit.\n",
    "Simple is better than complex.\n",
    "Complex is better than complicated.\n",
    "Flat is better than nested.\n",
    "Sparse is better than dense.\n",
    "Readability counts.\n",
    "Special cases aren't special enough to break the rules.\n",
    "Although practicality beats purity.\n",
    "Errors should never pass silently.\n",
    "Unless explicitly silenced.\n",
    "In the face of ambiguity, refuse the temptation to guess.\n",
    "There should be one-- and preferably only one --obvious way to do it.\n",
    "Although that way may not be obvious at first unless you're Dutch.\n",
    "Now is better than never.\n",
    "Although never is often better than rightnow.\n",
    "If the implementation is hard to explain, it's a bad idea.\n",
    "If the implementation is easy to explain, it may be a good idea.\n",
    "Namespaces are one honking great idea -- let's do more of those!\"\"\")\n",
    "\n",
    "text.close()\n",
    "\n",
    "with open(filename) as f:\n",
    "    text = f.read()\n",
    "print(text)"
   ]
  },
  {
   "cell_type": "code",
   "execution_count": 16,
   "metadata": {},
   "outputs": [
    {
     "name": "stdout",
     "output_type": "stream",
     "text": [
      "count: 50\n"
     ]
    }
   ],
   "source": [
    "def count_char(text, char):\n",
    "    count = 0\n",
    "    for c in text:\n",
    "        if c==char:\n",
    "            count+=1\n",
    "    return count\n",
    "\n",
    "print(\"count: \"+str(count_char(text, \"a\")))"
   ]
  },
  {
   "cell_type": "code",
   "execution_count": 17,
   "metadata": {},
   "outputs": [
    {
     "name": "stdout",
     "output_type": "stream",
     "text": [
      "count: 50\n"
     ]
    }
   ],
   "source": [
    "#Ayni islemi python'da yerlesik fonksiyon ile yapalim.\n",
    "def count_char(text, char):\n",
    "    return text.count(char)\n",
    "\n",
    "print(\"count: \"+str(count_char(text, \"a\")))"
   ]
  },
  {
   "cell_type": "code",
   "execution_count": 18,
   "metadata": {},
   "outputs": [
    {
     "name": "stdout",
     "output_type": "stream",
     "text": [
      "i - 5.98%\n",
      "m - 1.83%\n",
      "p - 2.44%\n",
      "l - 4.02%\n",
      "e - 10.49%\n",
      "m - 1.83%\n",
      "e - 10.49%\n",
      "n - 4.63%\n",
      "t - 9.02%\n",
      "a - 6.1%\n",
      "t - 9.02%\n",
      "i - 5.98%\n",
      "o - 5.0%\n",
      "n - 4.63%\n"
     ]
    }
   ],
   "source": [
    "for char in \"implementation\":\n",
    "    perc = 100*count_char(text, char)/len(text)\n",
    "    print(\"{0} - {1}%\".format(char, round(perc, 2)))"
   ]
  },
  {
   "cell_type": "markdown",
   "metadata": {},
   "source": [
    "### **Recursion**"
   ]
  },
  {
   "cell_type": "code",
   "execution_count": 5,
   "metadata": {},
   "outputs": [
    {
     "name": "stdout",
     "output_type": "stream",
     "text": [
      "120\n"
     ]
    }
   ],
   "source": [
    "def factorial(n):\n",
    "    if n == 1:\n",
    "        return 1\n",
    "    else:\n",
    "        return n*factorial(n-1)\n",
    "print(factorial(5))"
   ]
  },
  {
   "cell_type": "code",
   "execution_count": null,
   "metadata": {},
   "outputs": [],
   "source": []
  },
  {
   "cell_type": "code",
   "execution_count": null,
   "metadata": {},
   "outputs": [],
   "source": []
  },
  {
   "cell_type": "code",
   "execution_count": null,
   "metadata": {},
   "outputs": [],
   "source": []
  },
  {
   "cell_type": "code",
   "execution_count": 2,
   "metadata": {},
   "outputs": [
    {
     "name": "stdout",
     "output_type": "stream",
     "text": [
      "\"tırnak arasındaki metin\"\n"
     ]
    }
   ],
   "source": [
    "print(\"\\\"tırnak arasındaki metin\\\"\")"
   ]
  },
  {
   "cell_type": "code",
   "execution_count": 4,
   "metadata": {},
   "outputs": [
    {
     "name": "stdout",
     "output_type": "stream",
     "text": [
      "Gül sokak 10\\7 merkez\\niğde\n"
     ]
    }
   ],
   "source": [
    "print(\"Gül sokak 10\\\\7 merkez\\\\niğde\")"
   ]
  },
  {
   "cell_type": "code",
   "execution_count": 10,
   "metadata": {},
   "outputs": [
    {
     "name": "stdout",
     "output_type": "stream",
     "text": [
      "yeni satırbaşı \n"
     ]
    }
   ],
   "source": [
    "print(\"eski satırbaşı \\ryeni\")"
   ]
  },
  {
   "cell_type": "code",
   "execution_count": 11,
   "metadata": {},
   "outputs": [
    {
     "name": "stdout",
     "output_type": "stream",
     "text": [
      "recep\\naydogdu\\tbosluk\n"
     ]
    }
   ],
   "source": [
    "print(r\"recep\\naydogdu\\tbosluk\")"
   ]
  },
  {
   "cell_type": "code",
   "execution_count": 14,
   "metadata": {},
   "outputs": [
    {
     "name": "stdout",
     "output_type": "stream",
     "text": [
      "üs hesaplamak için\n"
     ]
    },
    {
     "name": "stdin",
     "output_type": "stream",
     "text": [
      "Taban sayıyı girin:  1\n",
      "üs sayıyı girin:  2\n"
     ]
    },
    {
     "name": "stdout",
     "output_type": "stream",
     "text": [
      "1 ** 2 = 1\n"
     ]
    }
   ],
   "source": [
    "print(\"üs hesaplamak için\")\n",
    "sayi1 = int(input(\"Taban sayıyı girin: \"))\n",
    "sayi2 = int(input(\"üs sayıyı girin: \"))\n",
    "print(sayi1,\"**\",sayi2, \"=\", pow(sayi1,sayi2))"
   ]
  },
  {
   "cell_type": "code",
   "execution_count": 2,
   "metadata": {},
   "outputs": [
    {
     "name": "stdin",
     "output_type": "stream",
     "text": [
      "Kullanıcı adı girin:  asd\n",
      "sifre girin:  asd\n"
     ]
    },
    {
     "name": "stdout",
     "output_type": "stream",
     "text": [
      "kullanıcı adı yada şifre yanlış\n"
     ]
    }
   ],
   "source": [
    "\n",
    "    kullanici = \"test\"\n",
    "    sifre = \"test\"\n",
    "\n",
    "    sorulan_kullanici = input(\"Kullanıcı adı girin: \")\n",
    "    sorulan_sifre = input(\"sifre girin: \")\n",
    "\n",
    "    if kullanici==sorulan_kullanici and sifre==sorulan_sifre:\n",
    "        print(\"giriş başarılı\")\n",
    "    elif not sorulan_kullanici:\n",
    "        print(\"kullanıcı adı girmediniz\")\n",
    "    elif not sorulan_sifre:\n",
    "        print(\"sifre girmediniz\")\n",
    "    else:\n",
    "        print(\"kullanıcı adı yada şifre yanlış\")\n"
   ]
  },
  {
   "cell_type": "code",
   "execution_count": 9,
   "metadata": {},
   "outputs": [
    {
     "name": "stdin",
     "output_type": "stream",
     "text": [
      "sözcük gir:  asd\n"
     ]
    },
    {
     "name": "stdout",
     "output_type": "stream",
     "text": [
      "yok\n"
     ]
    }
   ],
   "source": [
    "cumle = \"\"\"Python, nesne yönelimli, yorumlamalı, \n",
    "birimsel ve etkileşimli yüksek seviyeli bir programlama dilidir.\"\"\"\n",
    "\n",
    "aranacaksozcuk = input(\"sözcük gir: \")\n",
    "\n",
    "if aranacaksozcuk in cumle:\n",
    "    print(\"aranan sözcük var\")\n",
    "else:\n",
    "    print(\"yok\")"
   ]
  },
  {
   "cell_type": "code",
   "execution_count": 10,
   "metadata": {},
   "outputs": [
    {
     "name": "stdout",
     "output_type": "stream",
     "text": [
      "[-7, 9, -6, -2, 4, 4, 8, -7, -4, 8, 5, 9, -8, 7, -10]\n"
     ]
    }
   ],
   "source": [
    "from random import randint\n",
    "\n",
    "sayilar=[]\n",
    "for i in range(15):\n",
    "    sayilar.append(randint(-10,10))\n",
    "    \n",
    "print(sayilar)"
   ]
  },
  {
   "cell_type": "code",
   "execution_count": 15,
   "metadata": {},
   "outputs": [
    {
     "name": "stdout",
     "output_type": "stream",
     "text": [
      "Liste: [-7, 9, -6, -2, 4, 4, 8, -7, -4, 8, 5, 9, -8, 7, -10]\n",
      "max() fonksiyonunun çıktısı => 9\n",
      "min() fonksiyonunun çıktısı => -10\n",
      "sum() fonksiyonunun çıktısı => 10\n"
     ]
    }
   ],
   "source": [
    "string = \"{} fonksiyonunun çıktısı => {}\"\n",
    "\n",
    "print(\"Liste: {}\".format(sayilar))\n",
    "print(string.format(\"max()\", max(sayilar)))\n",
    "print(string.format(\"min()\", min(sayilar)))\n",
    "print(string.format(\"sum()\", sum(sayilar)))\n"
   ]
  },
  {
   "cell_type": "code",
   "execution_count": null,
   "metadata": {},
   "outputs": [],
   "source": []
  },
  {
   "cell_type": "code",
   "execution_count": null,
   "metadata": {},
   "outputs": [],
   "source": []
  },
  {
   "cell_type": "code",
   "execution_count": null,
   "metadata": {},
   "outputs": [],
   "source": []
  },
  {
   "cell_type": "code",
   "execution_count": 26,
   "metadata": {},
   "outputs": [
    {
     "name": "stdout",
     "output_type": "stream",
     "text": [
      "\n",
      "İsim: Recep Aydoğdu\n",
      "Ortalama: 70.00\n",
      "Harf Notu: C\n",
      "--------------------\n",
      "İsim: ahmet Aydoğdu\n",
      "Ortalama: 67.80\n",
      "Harf Notu: C\n",
      "--------------------\n",
      "İsim: ayça Aydoğdu\n",
      "Ortalama: 41.40\n",
      "Harf Notu: F\n",
      "--------------------\n",
      "İsim: mehmet Aydoğdu\n",
      "Ortalama: 58.40\n",
      "Harf Notu: D\n",
      "--------------------\n",
      "İsim: veli Aydoğdu\n",
      "Ortalama: 64.00\n",
      "Harf Notu: C\n",
      "--------------------\n",
      "İsim: zeki Aydoğdu\n",
      "Ortalama: 64.00\n",
      "Harf Notu: C\n",
      "--------------------"
     ]
    }
   ],
   "source": [
    "def not_hesapla(ad, puanlar):\n",
    "    \n",
    "    ortalama = sum(puanlar) / len(puanlar)\n",
    "    \n",
    "    if ortalama > 90:\n",
    "        harf = \"A\"\n",
    "    elif ortalama > 80:\n",
    "        harf = 'B'\n",
    "    elif ortalama > 60:\n",
    "        harf = 'C'\n",
    "    elif ortalama > 50:\n",
    "        harf = 'D'\n",
    "    else:\n",
    "        harf = 'F'\n",
    "        \n",
    "    print(f\"\\nİsim: {ad}\\nOrtalama: {ortalama:.2f}\\nHarf Notu: {harf}\\n\", end=\"-\"*20)\n",
    "    \n",
    "not_hesapla(\"Recep Aydoğdu\", (45,55,60,90,100))\n",
    "not_hesapla(\"ahmet Aydoğdu\", (89,55,60,65,70))\n",
    "not_hesapla(\"ayça Aydoğdu\", (50,23,55,45,34))\n",
    "not_hesapla(\"mehmet Aydoğdu\", (50,34,60,78,70))\n",
    "not_hesapla(\"veli Aydoğdu\", (50,95,60,45,70))\n",
    "not_hesapla(\"zeki Aydoğdu\", (50,55,67,78,70))"
   ]
  },
  {
   "cell_type": "code",
   "execution_count": null,
   "metadata": {},
   "outputs": [],
   "source": []
  },
  {
   "cell_type": "code",
   "execution_count": null,
   "metadata": {},
   "outputs": [],
   "source": []
  },
  {
   "cell_type": "code",
   "execution_count": 28,
   "metadata": {},
   "outputs": [
    {
     "data": {
      "text/plain": [
       "['P', 'y', 't', 'h', 'o', 'n']"
      ]
     },
     "execution_count": 28,
     "metadata": {},
     "output_type": "execute_result"
    }
   ],
   "source": [
    "harf_listesi = [harf for harf in \"Python\"]\n",
    "harf_listesi"
   ]
  },
  {
   "cell_type": "code",
   "execution_count": 30,
   "metadata": {},
   "outputs": [
    {
     "data": {
      "text/plain": [
       "'elma'"
      ]
     },
     "execution_count": 30,
     "metadata": {},
     "output_type": "execute_result"
    }
   ],
   "source": [
    "kosul = True\n",
    "kelime = \"elma\" if kosul else \"Armut\"\n",
    "kelime"
   ]
  },
  {
   "cell_type": "code",
   "execution_count": 31,
   "metadata": {},
   "outputs": [
    {
     "data": {
      "text/plain": [
       "36"
      ]
     },
     "execution_count": 31,
     "metadata": {},
     "output_type": "execute_result"
    }
   ],
   "source": [
    "kare_al = lambda x:x**2\n",
    "kare_al(6)"
   ]
  },
  {
   "cell_type": "code",
   "execution_count": null,
   "metadata": {},
   "outputs": [],
   "source": []
  },
  {
   "cell_type": "code",
   "execution_count": null,
   "metadata": {},
   "outputs": [],
   "source": []
  },
  {
   "cell_type": "code",
   "execution_count": 39,
   "metadata": {},
   "outputs": [
    {
     "data": {
      "text/plain": [
       "[1, 4, 9, 16, 25, 36, 49]"
      ]
     },
     "execution_count": 39,
     "metadata": {},
     "output_type": "execute_result"
    }
   ],
   "source": [
    "sayilar = [1, 2, 3, 4, 5, 6, 7]\n",
    "\n",
    "sayilarin_karesi=[kare**2 for kare in sayilar]\n",
    "sayilarin_karesi"
   ]
  },
  {
   "cell_type": "code",
   "execution_count": null,
   "metadata": {},
   "outputs": [],
   "source": []
  }
 ],
 "metadata": {
  "kernelspec": {
   "display_name": "Python 3",
   "language": "python",
   "name": "python3"
  },
  "language_info": {
   "codemirror_mode": {
    "name": "ipython",
    "version": 3
   },
   "file_extension": ".py",
   "mimetype": "text/x-python",
   "name": "python",
   "nbconvert_exporter": "python",
   "pygments_lexer": "ipython3",
   "version": "3.7.6"
  }
 },
 "nbformat": 4,
 "nbformat_minor": 4
}
