{
 "cells": [
  {
   "cell_type": "code",
   "execution_count": 1,
   "metadata": {},
   "outputs": [
    {
     "name": "stdout",
     "output_type": "stream",
     "text": [
      "Options:\n",
      "Enter 'add' to add two numbers.\n",
      "Enter 'substract' to substract two numbers.\n",
      "Enter 'multiply' to multiply two numbers.\n",
      "Enter 'divide' to add divide numbers.\n",
      "Enter 'quit' to end the program.\n"
     ]
    },
    {
     "name": "stdin",
     "output_type": "stream",
     "text": [
      "input:  divide\n",
      "Enter a number:  5\n",
      "Enter another number:  1.5\n"
     ]
    },
    {
     "name": "stdout",
     "output_type": "stream",
     "text": [
      "\n",
      "The answer is 3.3333333333333335\n",
      "\n",
      "Options:\n",
      "Enter 'add' to add two numbers.\n",
      "Enter 'substract' to substract two numbers.\n",
      "Enter 'multiply' to multiply two numbers.\n",
      "Enter 'divide' to add divide numbers.\n",
      "Enter 'quit' to end the program.\n"
     ]
    },
    {
     "name": "stdin",
     "output_type": "stream",
     "text": [
      "input:  multiply\n",
      "Enter a number:  4\n",
      "Enter another number:  1.5\n"
     ]
    },
    {
     "name": "stdout",
     "output_type": "stream",
     "text": [
      "\n",
      "The answer is 6.0\n",
      "\n",
      "Options:\n",
      "Enter 'add' to add two numbers.\n",
      "Enter 'substract' to substract two numbers.\n",
      "Enter 'multiply' to multiply two numbers.\n",
      "Enter 'divide' to add divide numbers.\n",
      "Enter 'quit' to end the program.\n"
     ]
    },
    {
     "name": "stdin",
     "output_type": "stream",
     "text": [
      "input:  quit\n"
     ]
    }
   ],
   "source": [
    "while True:\n",
    "    print(\"Options:\")\n",
    "    print(\"Enter 'add' to add two numbers.\")\n",
    "    print(\"Enter 'substract' to substract two numbers.\")\n",
    "    print(\"Enter 'multiply' to multiply two numbers.\")\n",
    "    print(\"Enter 'divide' to add divide numbers.\")\n",
    "    print(\"Enter 'quit' to end the program.\")\n",
    "    user_input = input(\"input: \")\n",
    "    \n",
    "    if user_input==\"quit\":\n",
    "        break\n",
    "    elif user_input==\"add\":\n",
    "        num1 = float(input(\"Enter a number: \"))\n",
    "        num2 = float(input(\"Enter another number: \"))\n",
    "        result = num1 + num2\n",
    "        print(\"\\nThe answer is \" + str(result)+\"\\n\")\n",
    "    elif user_input==\"substract\":\n",
    "        num1 = float(input(\"Enter a number: \"))\n",
    "        num2 = float(input(\"Enter another number: \"))\n",
    "        result = num1 - num2\n",
    "        print(\"\\nThe answer is \" + str(result)+\"\\n\")\n",
    "    elif user_input==\"multiply\":\n",
    "        num1 = float(input(\"Enter a number: \"))\n",
    "        num2 = float(input(\"Enter another number: \"))\n",
    "        result = num1 * num2\n",
    "        print(\"\\nThe answer is \" + str(result)+\"\\n\")\n",
    "    elif user_input==\"divide\":\n",
    "        num1 = float(input(\"Enter a number: \"))\n",
    "        num2 = float(input(\"Enter another number: \"))\n",
    "        result = num1 / num2\n",
    "        print(\"\\nThe answer is \" + str(result)+\"\\n\")\n",
    "    else:\n",
    "        print(\"Unknown input!\")"
   ]
  },
  {
   "cell_type": "code",
   "execution_count": null,
   "metadata": {},
   "outputs": [],
   "source": []
  }
 ],
 "metadata": {
  "kernelspec": {
   "display_name": "Python 3",
   "language": "python",
   "name": "python3"
  },
  "language_info": {
   "codemirror_mode": {
    "name": "ipython",
    "version": 3
   },
   "file_extension": ".py",
   "mimetype": "text/x-python",
   "name": "python",
   "nbconvert_exporter": "python",
   "pygments_lexer": "ipython3",
   "version": "3.7.6"
  }
 },
 "nbformat": 4,
 "nbformat_minor": 4
}
