{
 "cells": [
  {
   "cell_type": "code",
   "execution_count": 23,
   "metadata": {},
   "outputs": [
    {
     "name": "stdin",
     "output_type": "stream",
     "text": [
      "Yıl giriniz:(Çıkış için 0 giriniz.)  1999\n"
     ]
    },
    {
     "name": "stdout",
     "output_type": "stream",
     "text": [
      "1999 yılı 20. yüzyıldadır.\n"
     ]
    },
    {
     "name": "stdin",
     "output_type": "stream",
     "text": [
      "Yıl giriniz:(Çıkış için 0 giriniz.)  2060\n"
     ]
    },
    {
     "name": "stdout",
     "output_type": "stream",
     "text": [
      "2060 yılı 21. yüzyıldadır.\n"
     ]
    },
    {
     "name": "stdin",
     "output_type": "stream",
     "text": [
      "Yıl giriniz:(Çıkış için 0 giriniz.)  3000\n"
     ]
    },
    {
     "name": "stdout",
     "output_type": "stream",
     "text": [
      "3000 yılı 21. yüzyıldadır.\n"
     ]
    },
    {
     "name": "stdin",
     "output_type": "stream",
     "text": [
      "Yıl giriniz:(Çıkış için 0 giriniz.)  1564\n"
     ]
    },
    {
     "name": "stdout",
     "output_type": "stream",
     "text": [
      "1564 yılı 16. yüzyıldadır.\n"
     ]
    },
    {
     "name": "stdin",
     "output_type": "stream",
     "text": [
      "Yıl giriniz:(Çıkış için 0 giriniz.)  0\n"
     ]
    }
   ],
   "source": [
    "\"\"\"\n",
    "Girilen yılın kaçıncı yüzyıl olduğunu bulan kod.\n",
    "\"\"\"\n",
    "\n",
    "while True:\n",
    "    yil = int(input(\"Yıl giriniz:(Çıkış için 0 giriniz.) \"))\n",
    "\n",
    "\n",
    "    if yil==0:\n",
    "        break\n",
    "    elif 1200<=yil<1300:\n",
    "        print(\"{} yılı 13. yüzyıldadır.\".format(yil))\n",
    "    elif 1300<=yil<1400:\n",
    "        print (\"{} yılı 14. yüzyıldadır.\".format(yil))\n",
    "    elif 1400<=yil<1500:\n",
    "        print (\"{} yılı 15. yüzyıldadır.\".format(yil))\n",
    "    elif 1500<=yil<1600:\n",
    "        print (\"{} yılı 16. yüzyıldadır.\".format(yil))\n",
    "    elif 1600<=yil<1700:\n",
    "        print (\"{} yılı 17. yüzyıldadır.\".format(yil))\n",
    "    elif 1700<=yil<1800:\n",
    "        print (\"{} yılı 18. yüzyıldadır.\".format(yil))\n",
    "    elif 1800<=yil<1900:\n",
    "        print (\"{} yılı 19. yüzyıldadır.\".format(yil))\n",
    "    elif 1900<=yil<2000:\n",
    "        print (\"{} yılı 20. yüzyıldadır.\".format(yil))\n",
    "    else:\n",
    "        print(\"{} yılı 21. yüzyıldadır.\".format(yil))\n"
   ]
  },
  {
   "cell_type": "code",
   "execution_count": 35,
   "metadata": {},
   "outputs": [
    {
     "name": "stdout",
     "output_type": "stream",
     "text": [
      "-500\n"
     ]
    }
   ],
   "source": [
    "#Listenin içindeki en küçük elemanı bulma\n",
    "\n",
    "liste = [2,4,5,3,4,5,1,6,7,4,3,0,-500,456]\n",
    "\n",
    "mini = 100000000000\n",
    "for each in liste:\n",
    "    if (each<mini):\n",
    "        mini=each\n",
    "print(mini)"
   ]
  },
  {
   "cell_type": "code",
   "execution_count": 53,
   "metadata": {},
   "outputs": [
    {
     "name": "stdin",
     "output_type": "stream",
     "text": [
      "Yıl giriniz:  1332\n"
     ]
    },
    {
     "data": {
      "text/plain": [
       "14"
      ]
     },
     "execution_count": 53,
     "metadata": {},
     "output_type": "execute_result"
    }
   ],
   "source": [
    "def year2Century(year):\n",
    "    \"\"\"\n",
    "    year to century\n",
    "    \"\"\"\n",
    "    str_year = str(year)\n",
    "    \n",
    "    if(len(str_year)<3):\n",
    "        return 1\n",
    "    elif(len(str_year) == 3):\n",
    "        if(str_year[1:3] == \"00\"):  # 100 ,200 300, 400 ... 900\n",
    "            return int(str_year[0])\n",
    "        else:                       # 190, 250, 450\n",
    "            return int(str_year[0])+1\n",
    "    else:                           # 1750, 1700, 1805\n",
    "        if(str_year[2:4]==\"00\"):    # 1700, 1900, 1100\n",
    "            return int(str_year[:2])\n",
    "        else:                       # 1705, 1645, 1258\n",
    "            return int(str_year[:2])+1\n",
    "        \n",
    "year2Century(input(\"Yıl giriniz: \"))"
   ]
  },
  {
   "cell_type": "code",
   "execution_count": 69,
   "metadata": {},
   "outputs": [
    {
     "name": "stdin",
     "output_type": "stream",
     "text": [
      "index :  6\n"
     ]
    },
    {
     "name": "stdout",
     "output_type": "stream",
     "text": [
      "Geçersiz index talebi...\n"
     ]
    }
   ],
   "source": [
    "try:\n",
    "    liste = [1,2,3,4]\n",
    "    print(liste[int(input(\"index : \"))])\n",
    "    \n",
    "except IndexError:\n",
    "    print(\"Geçersiz index talebi...\")"
   ]
  },
  {
   "cell_type": "code",
   "execution_count": 70,
   "metadata": {},
   "outputs": [
    {
     "data": {
      "text/plain": [
       "'ggf'"
      ]
     },
     "execution_count": 70,
     "metadata": {},
     "output_type": "execute_result"
    }
   ],
   "source": [
    "s = \"fffggg\"\n",
    "\n",
    "s[::-2]"
   ]
  },
  {
   "cell_type": "code",
   "execution_count": 71,
   "metadata": {},
   "outputs": [
    {
     "name": "stdout",
     "output_type": "stream",
     "text": [
      "1.0\n"
     ]
    }
   ],
   "source": [
    "a = 5.5\n",
    "\n",
    "b = 3\n",
    "\n",
    "print(a//b)"
   ]
  },
  {
   "cell_type": "code",
   "execution_count": 72,
   "metadata": {},
   "outputs": [
    {
     "name": "stdout",
     "output_type": "stream",
     "text": [
      "52\n"
     ]
    }
   ],
   "source": [
    "print(int(51.88+4/5))"
   ]
  },
  {
   "cell_type": "code",
   "execution_count": 78,
   "metadata": {},
   "outputs": [
    {
     "name": "stdout",
     "output_type": "stream",
     "text": [
      "{2: 'x', 3: 'y'}\n"
     ]
    }
   ],
   "source": [
    "a = {\"x\":2,\"y\":3}\n",
    "\n",
    "b = dict(zip(a.values(),a.keys()))\n",
    "\n",
    "print(b)"
   ]
  },
  {
   "cell_type": "code",
   "execution_count": 79,
   "metadata": {},
   "outputs": [
    {
     "name": "stdout",
     "output_type": "stream",
     "text": [
      "a\n",
      "b\n"
     ]
    }
   ],
   "source": [
    "if \"zaa\" in {\"caa\":1,\"zaa\":2}:\n",
    "\n",
    "    print(\"a\")\n",
    "\n",
    "    if \"aa\" in \"zaa\":\n",
    "\n",
    "        print(\"b\")"
   ]
  },
  {
   "cell_type": "code",
   "execution_count": 80,
   "metadata": {},
   "outputs": [
    {
     "name": "stdout",
     "output_type": "stream",
     "text": [
      "[1, 2, 3]\n"
     ]
    }
   ],
   "source": [
    "a = [1,2,3]\n",
    "\n",
    "for i in a:\n",
    "\n",
    "    i+1\n",
    "\n",
    "print(a)"
   ]
  },
  {
   "cell_type": "code",
   "execution_count": 81,
   "metadata": {},
   "outputs": [
    {
     "name": "stdout",
     "output_type": "stream",
     "text": [
      "1\n",
      "2\n"
     ]
    }
   ],
   "source": [
    "c = 1\n",
    "\n",
    "while True:\n",
    "\n",
    "    if c % 3 == 0:\n",
    "\n",
    "        break\n",
    "\n",
    "    print(c)\n",
    "\n",
    "    c = c + 1"
   ]
  },
  {
   "cell_type": "code",
   "execution_count": null,
   "metadata": {},
   "outputs": [],
   "source": []
  }
 ],
 "metadata": {
  "kernelspec": {
   "display_name": "Python 3",
   "language": "python",
   "name": "python3"
  },
  "language_info": {
   "codemirror_mode": {
    "name": "ipython",
    "version": 3
   },
   "file_extension": ".py",
   "mimetype": "text/x-python",
   "name": "python",
   "nbconvert_exporter": "python",
   "pygments_lexer": "ipython3",
   "version": "3.7.6"
  }
 },
 "nbformat": 4,
 "nbformat_minor": 4
}
