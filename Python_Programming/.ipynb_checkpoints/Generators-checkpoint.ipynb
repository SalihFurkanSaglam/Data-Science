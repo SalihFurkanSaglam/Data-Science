{
 "cells": [
  {
   "cell_type": "markdown",
   "metadata": {},
   "source": [
    "## **Generators**"
   ]
  },
  {
   "cell_type": "code",
   "execution_count": 3,
   "metadata": {},
   "outputs": [
    {
     "name": "stdout",
     "output_type": "stream",
     "text": [
      "[0, 1, 8, 27, 64, 125, 216, 343, 512, 729]\n"
     ]
    }
   ],
   "source": [
    "#Ağır işlemci gücü kullanan bir fonksiyon yazdığımızı varsayalım.\n",
    "from time import sleep #sleep fonksiyonu için\n",
    "\n",
    "def compute():\n",
    "    result = []\n",
    "    \n",
    "    for i in range(10):\n",
    "        sleep(.5) #0.5 saniye bekleyecek, hesaplama süresini temsil etmek için.\n",
    "        result.append(i**3)\n",
    "    return result\n",
    "print(compute())"
   ]
  },
  {
   "cell_type": "markdown",
   "metadata": {},
   "source": [
    "Program her döngüye girdiğinde 0.5 saniye (10 kez döngüye gireceği için toplam 5 saniye) bekleyerek çalıştı.<br>\n",
    "İşlem süresi daha uzun sürecek işlemler yaptığımızda (5-10 dakika gibi) sonucu görmek için beklemek pek hoş olmaz.<br>\n",
    "Sonuçlar oluşmaya başladığı an çıktı olarak görmek istiyoruz."
   ]
  },
  {
   "cell_type": "code",
   "execution_count": 8,
   "metadata": {},
   "outputs": [
    {
     "name": "stdout",
     "output_type": "stream",
     "text": [
      "0\n",
      "1\n",
      "8\n",
      "27\n",
      "64\n",
      "125\n",
      "216\n",
      "343\n",
      "512\n",
      "729\n"
     ]
    }
   ],
   "source": [
    "#Amacımız döngünün her bir iterasyonunda ara değerleri döndürebilmek\n",
    "from time import sleep\n",
    "\n",
    "def compute2():\n",
    "    for i in range(10):\n",
    "        sleep(.5)\n",
    "        yield i**3 #Generator\n",
    "\n",
    "for res in compute2(): #compute2'nin her bir değerini almak için for kullandık.\n",
    "    print(res)\n",
    "    \n",
    "#0.5 saniyede bir değer üretti ve 0.5 saniyede bir ekrana o an üretilen değer geldi."
   ]
  },
  {
   "cell_type": "markdown",
   "metadata": {},
   "source": [
    "Yukarıdaki programda ise bütün result'ı beklemeden ara değerler üzerinde işlem yapabiliriz."
   ]
  },
  {
   "cell_type": "code",
   "execution_count": null,
   "metadata": {},
   "outputs": [],
   "source": []
  },
  {
   "cell_type": "code",
   "execution_count": 12,
   "metadata": {},
   "outputs": [
    {
     "data": {
      "text/plain": [
       "generator"
      ]
     },
     "execution_count": 12,
     "metadata": {},
     "output_type": "execute_result"
    }
   ],
   "source": [
    "def count(n):\n",
    "    for i in range(n):\n",
    "        yield i\n",
    "    \n",
    "res = count(3)\n",
    "type(res)"
   ]
  },
  {
   "cell_type": "code",
   "execution_count": 17,
   "metadata": {},
   "outputs": [
    {
     "name": "stdout",
     "output_type": "stream",
     "text": [
      "[9, 8, 7, 6, 5, 4, 3, 2, 1]\n",
      "[8, 7, 6, 5, 4, 3, 2, 1]\n",
      "[7, 6, 5, 4, 3, 2, 1]\n",
      "[6, 5, 4, 3, 2, 1]\n",
      "[5, 4, 3, 2, 1]\n",
      "[4, 3, 2, 1]\n",
      "[3, 2, 1]\n",
      "[2, 1]\n",
      "[1]\n"
     ]
    }
   ],
   "source": [
    "import time\n",
    "def countdown(i):\n",
    "    while i > 0:\n",
    "        yield i\n",
    "        i -= 1\n",
    "for i in countdown(9):\n",
    "    \n",
    "    print(list(countdown(i)))"
   ]
  },
  {
   "cell_type": "code",
   "execution_count": 19,
   "metadata": {},
   "outputs": [
    {
     "name": "stdout",
     "output_type": "stream",
     "text": [
      "['s', 'sp', 'spa', 'spam']\n"
     ]
    }
   ],
   "source": [
    "def make_word():\n",
    "    word=\"\"\n",
    "    for char in \"spam\":\n",
    "        word += char\n",
    "        yield word\n",
    "print(list(make_word()))"
   ]
  },
  {
   "cell_type": "code",
   "execution_count": null,
   "metadata": {},
   "outputs": [],
   "source": []
  }
 ],
 "metadata": {
  "kernelspec": {
   "display_name": "Python 3",
   "language": "python",
   "name": "python3"
  },
  "language_info": {
   "codemirror_mode": {
    "name": "ipython",
    "version": 3
   },
   "file_extension": ".py",
   "mimetype": "text/x-python",
   "name": "python",
   "nbconvert_exporter": "python",
   "pygments_lexer": "ipython3",
   "version": "3.7.6"
  }
 },
 "nbformat": 4,
 "nbformat_minor": 4
}
