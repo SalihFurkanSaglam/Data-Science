{
  "nbformat": 4,
  "nbformat_minor": 0,
  "metadata": {
    "kernelspec": {
      "display_name": "Python 3",
      "language": "python",
      "name": "python3"
    },
    "language_info": {
      "codemirror_mode": {
        "name": "ipython",
        "version": 3
      },
      "file_extension": ".py",
      "mimetype": "text/x-python",
      "name": "python",
      "nbconvert_exporter": "python",
      "pygments_lexer": "ipython3",
      "version": "3.7.6"
    },
    "colab": {
      "name": "Statistic.ipynb",
      "provenance": []
    }
  },
  "cells": [
    {
      "cell_type": "markdown",
      "metadata": {
        "id": "7KaajwArByFW",
        "colab_type": "text"
      },
      "source": [
        "# **Veri Bilimi İçin İstatistik**\n",
        "## Örnek Teorisi!"
      ]
    },
    {
      "cell_type": "markdown",
      "metadata": {
        "id": "VkRSVbXMByFX",
        "colab_type": "text"
      },
      "source": [
        "Varsayalım ki bir ilçedeki kişilerin yaşlarına ilişkin bir çıkarımda bulunmak istiyoruz.  \n",
        "Bu ilçedeki kişilerin yaş ortalamasını merak ediyoruz.  \n",
        "Ama bu ilçede 10.000 kişi yaşıyor ve her birisiyle tek tek görüşmek çok da mümkün değil.  \n",
        "Bu sebeple 10.000 kişinin hepsiyle görüşmek yerine bunun içerisinden 100 kişilik  \n",
        "bir örneklem çekip, bu 100 kişinin yaş ortalamasını inceleyip, bu ilçenin yaş ortalamasının  \n",
        "kaç olabileceğini tahmin etmek istiyoruz."
      ]
    },
    {
      "cell_type": "code",
      "metadata": {
        "id": "99d0GJ3yByFX",
        "colab_type": "code",
        "colab": {}
      },
      "source": [
        "import numpy as np"
      ],
      "execution_count": null,
      "outputs": []
    },
    {
      "cell_type": "code",
      "metadata": {
        "id": "RDb9znc-ByFa",
        "colab_type": "code",
        "colab": {}
      },
      "source": [
        "populasyon = np.random.randint(0, 80, 10000)\n",
        "#0-80 yas araliginda 10.000 kisi"
      ],
      "execution_count": null,
      "outputs": []
    },
    {
      "cell_type": "code",
      "metadata": {
        "id": "0uyZMD3wByFd",
        "colab_type": "code",
        "colab": {},
        "outputId": "57249fbf-5a5b-49e7-8354-9a730e442cbf"
      },
      "source": [
        "populasyon[:10] # ilk 10 kisinin yasi"
      ],
      "execution_count": null,
      "outputs": [
        {
          "output_type": "execute_result",
          "data": {
            "text/plain": [
              "array([33, 29, 57, 68, 44, 74, 79, 26, 43,  9])"
            ]
          },
          "metadata": {
            "tags": []
          },
          "execution_count": 3
        }
      ]
    },
    {
      "cell_type": "markdown",
      "metadata": {
        "id": "J9WkUOZPByFh",
        "colab_type": "text"
      },
      "source": [
        "#### Örneklem Çekimi"
      ]
    },
    {
      "cell_type": "markdown",
      "metadata": {
        "id": "JCbfz-R3ByFi",
        "colab_type": "text"
      },
      "source": [
        "Öncelikle **seed** ayarı yapmamız lazım.  \n",
        "**seed** ayarı ne demek?  \n",
        "Yapılacak olan işlemlerin her tekrar edildiğinde aynı sonuçların getirilmesini  \n",
        "garanti altına alan bir işlem.  \n",
        "random.seed()'i eklemezsek, fonksiyonu her çalıştırdığımda farklı örneklemler çekmiş olacak."
      ]
    },
    {
      "cell_type": "code",
      "metadata": {
        "id": "874A5ksLByFi",
        "colab_type": "code",
        "colab": {},
        "outputId": "e5992b8f-35ea-434e-9ca9-73ca3c323169"
      },
      "source": [
        "np.random.seed(115) #herhangi bir sayi verebilirsiniz.\n",
        "\n",
        "orneklem = np.random.choice(a = populasyon, size=100)\n",
        "#populasyon icerisinden 100 tane ornek cekme islemi.\n",
        "\n",
        "orneklem"
      ],
      "execution_count": null,
      "outputs": [
        {
          "output_type": "execute_result",
          "data": {
            "text/plain": [
              "array([65,  0, 60, 11, 16, 35, 16, 26, 15,  6, 36, 32, 20, 63, 43, 12, 36,\n",
              "       60, 33, 28, 79, 53, 28, 12, 29, 19, 27, 14, 45, 72, 73,  9, 64, 70,\n",
              "       64, 24, 53,  2, 20, 44, 20,  2, 22, 60, 22, 34, 66, 12, 40, 22,  1,\n",
              "       51, 53, 73, 24, 56, 66, 47, 38, 11, 34,  4, 14, 14, 11, 40, 74, 60,\n",
              "       54, 32, 52, 20, 23, 48, 25, 73, 37, 25, 32, 17,  5,  0, 37, 25, 13,\n",
              "       27,  4, 74, 63, 33,  4, 62,  0,  1, 19,  1,  6, 59, 50, 67])"
            ]
          },
          "metadata": {
            "tags": []
          },
          "execution_count": 4
        }
      ]
    },
    {
      "cell_type": "markdown",
      "metadata": {
        "id": "MxqQVP7LByFl",
        "colab_type": "text"
      },
      "source": [
        "Ana kitlemiz olan populasyon'da 10.000 gözlem vardı.  \n",
        "Rastgele 100 gözlem çekerek örneklem oluşturduk."
      ]
    },
    {
      "cell_type": "code",
      "metadata": {
        "id": "iZIOoK2BByFl",
        "colab_type": "code",
        "colab": {},
        "outputId": "2a9452f9-9963-4aa3-ba93-9fc089421e42"
      },
      "source": [
        "orneklem.mean()"
      ],
      "execution_count": null,
      "outputs": [
        {
          "output_type": "execute_result",
          "data": {
            "text/plain": [
              "33.73"
            ]
          },
          "metadata": {
            "tags": []
          },
          "execution_count": 5
        }
      ]
    },
    {
      "cell_type": "code",
      "metadata": {
        "id": "CYNQPB3-ByFo",
        "colab_type": "code",
        "colab": {},
        "outputId": "2178ae02-ac4d-49af-c5f9-b7dccf3d07b6"
      },
      "source": [
        "populasyon.mean()"
      ],
      "execution_count": null,
      "outputs": [
        {
          "output_type": "execute_result",
          "data": {
            "text/plain": [
              "39.2186"
            ]
          },
          "metadata": {
            "tags": []
          },
          "execution_count": 6
        }
      ]
    },
    {
      "cell_type": "markdown",
      "metadata": {
        "id": "LYdtDP39ByFr",
        "colab_type": "text"
      },
      "source": [
        "Örneklemin gücü burada çok açık bir şekilde dikkatimizi çekiyor."
      ]
    },
    {
      "cell_type": "markdown",
      "metadata": {
        "id": "4vB4k24UByFs",
        "colab_type": "text"
      },
      "source": [
        "#### Örneklem Dağılımı"
      ]
    },
    {
      "cell_type": "code",
      "metadata": {
        "id": "9OXWVOGnByFt",
        "colab_type": "code",
        "colab": {}
      },
      "source": [
        "np.random.seed(10)\n",
        "orneklem1 = np.random.choice(a = populasyon, size = 100)\n",
        "orneklem2 = np.random.choice(a = populasyon, size = 100)\n",
        "orneklem3 = np.random.choice(a = populasyon, size = 100)\n",
        "orneklem4 = np.random.choice(a = populasyon, size = 100)\n",
        "orneklem5 = np.random.choice(a = populasyon, size = 100)\n",
        "orneklem6 = np.random.choice(a = populasyon, size = 100)\n",
        "orneklem7 = np.random.choice(a = populasyon, size = 100)\n",
        "orneklem8 = np.random.choice(a = populasyon, size = 100)\n",
        "orneklem9 = np.random.choice(a = populasyon, size = 100)\n",
        "orneklem10 = np.random.choice(a = populasyon, size = 100)"
      ],
      "execution_count": null,
      "outputs": []
    },
    {
      "cell_type": "markdown",
      "metadata": {
        "id": "-EVgvhXOByFv",
        "colab_type": "text"
      },
      "source": [
        "Birbirinden farklı 10 tane örneklem çekmiş olduk."
      ]
    },
    {
      "cell_type": "markdown",
      "metadata": {
        "id": "Mc_F29tUByFv",
        "colab_type": "text"
      },
      "source": [
        "Örneklemlerin ortalamalarının, ortalamasını alıyoruz."
      ]
    },
    {
      "cell_type": "code",
      "metadata": {
        "id": "-cWpsrLYByFw",
        "colab_type": "code",
        "colab": {},
        "outputId": "ed00629e-2318-4ef3-e6bd-89387bb6a8db"
      },
      "source": [
        "(orneklem1.mean() + orneklem2.mean() + orneklem3.mean() + orneklem4.mean() + orneklem5.mean() \n",
        "+ orneklem6.mean() + orneklem7.mean() + orneklem8.mean() + orneklem9.mean() + orneklem10.mean() )  / 10"
      ],
      "execution_count": null,
      "outputs": [
        {
          "output_type": "execute_result",
          "data": {
            "text/plain": [
              "38.422"
            ]
          },
          "metadata": {
            "tags": []
          },
          "execution_count": 16
        }
      ]
    },
    {
      "cell_type": "markdown",
      "metadata": {
        "id": "OOirv4THByFy",
        "colab_type": "text"
      },
      "source": [
        "Normal şartlarda, daha fazla örneklem çekildiğinde, örneklemlerin ortalamasının ana kitle ortalamasına daha yakın olmasını bekleriz."
      ]
    },
    {
      "cell_type": "markdown",
      "metadata": {
        "id": "8eBV1vaMByFy",
        "colab_type": "text"
      },
      "source": [
        "Merkezi limit teoremi aracılığı ile ana kitle ortalamasına gitmiş oluyoruz."
      ]
    },
    {
      "cell_type": "markdown",
      "metadata": {
        "id": "Z0CqOtd7ByFz",
        "colab_type": "text"
      },
      "source": [
        "## Betimsel İstatistikler"
      ]
    },
    {
      "cell_type": "markdown",
      "metadata": {
        "id": "8uvYvt59ByFz",
        "colab_type": "text"
      },
      "source": [
        "Örneklerimizde Tips datasetini kullanacağız."
      ]
    },
    {
      "cell_type": "code",
      "metadata": {
        "id": "dpMNli6UByFz",
        "colab_type": "code",
        "colab": {},
        "outputId": "bdb98421-7b66-4a10-cdfe-7e81092da468"
      },
      "source": [
        "#tips datasetini kullanacagiz.\n",
        "import seaborn as sns\n",
        "tips = sns.load_dataset(\"tips\")\n",
        "df = tips.copy()\n",
        "df.head()"
      ],
      "execution_count": null,
      "outputs": [
        {
          "output_type": "execute_result",
          "data": {
            "text/html": [
              "<div>\n",
              "<style scoped>\n",
              "    .dataframe tbody tr th:only-of-type {\n",
              "        vertical-align: middle;\n",
              "    }\n",
              "\n",
              "    .dataframe tbody tr th {\n",
              "        vertical-align: top;\n",
              "    }\n",
              "\n",
              "    .dataframe thead th {\n",
              "        text-align: right;\n",
              "    }\n",
              "</style>\n",
              "<table border=\"1\" class=\"dataframe\">\n",
              "  <thead>\n",
              "    <tr style=\"text-align: right;\">\n",
              "      <th></th>\n",
              "      <th>total_bill</th>\n",
              "      <th>tip</th>\n",
              "      <th>sex</th>\n",
              "      <th>smoker</th>\n",
              "      <th>day</th>\n",
              "      <th>time</th>\n",
              "      <th>size</th>\n",
              "    </tr>\n",
              "  </thead>\n",
              "  <tbody>\n",
              "    <tr>\n",
              "      <th>0</th>\n",
              "      <td>16.99</td>\n",
              "      <td>1.01</td>\n",
              "      <td>Female</td>\n",
              "      <td>No</td>\n",
              "      <td>Sun</td>\n",
              "      <td>Dinner</td>\n",
              "      <td>2</td>\n",
              "    </tr>\n",
              "    <tr>\n",
              "      <th>1</th>\n",
              "      <td>10.34</td>\n",
              "      <td>1.66</td>\n",
              "      <td>Male</td>\n",
              "      <td>No</td>\n",
              "      <td>Sun</td>\n",
              "      <td>Dinner</td>\n",
              "      <td>3</td>\n",
              "    </tr>\n",
              "    <tr>\n",
              "      <th>2</th>\n",
              "      <td>21.01</td>\n",
              "      <td>3.50</td>\n",
              "      <td>Male</td>\n",
              "      <td>No</td>\n",
              "      <td>Sun</td>\n",
              "      <td>Dinner</td>\n",
              "      <td>3</td>\n",
              "    </tr>\n",
              "    <tr>\n",
              "      <th>3</th>\n",
              "      <td>23.68</td>\n",
              "      <td>3.31</td>\n",
              "      <td>Male</td>\n",
              "      <td>No</td>\n",
              "      <td>Sun</td>\n",
              "      <td>Dinner</td>\n",
              "      <td>2</td>\n",
              "    </tr>\n",
              "    <tr>\n",
              "      <th>4</th>\n",
              "      <td>24.59</td>\n",
              "      <td>3.61</td>\n",
              "      <td>Female</td>\n",
              "      <td>No</td>\n",
              "      <td>Sun</td>\n",
              "      <td>Dinner</td>\n",
              "      <td>4</td>\n",
              "    </tr>\n",
              "  </tbody>\n",
              "</table>\n",
              "</div>"
            ],
            "text/plain": [
              "   total_bill   tip     sex smoker  day    time  size\n",
              "0       16.99  1.01  Female     No  Sun  Dinner     2\n",
              "1       10.34  1.66    Male     No  Sun  Dinner     3\n",
              "2       21.01  3.50    Male     No  Sun  Dinner     3\n",
              "3       23.68  3.31    Male     No  Sun  Dinner     2\n",
              "4       24.59  3.61  Female     No  Sun  Dinner     4"
            ]
          },
          "metadata": {
            "tags": []
          },
          "execution_count": 1
        }
      ]
    },
    {
      "cell_type": "code",
      "metadata": {
        "id": "dyB63ZUsByF1",
        "colab_type": "code",
        "colab": {},
        "outputId": "76c2eaba-1398-4d92-f32c-8093ce834f5a"
      },
      "source": [
        "df.describe().T"
      ],
      "execution_count": null,
      "outputs": [
        {
          "output_type": "execute_result",
          "data": {
            "text/html": [
              "<div>\n",
              "<style scoped>\n",
              "    .dataframe tbody tr th:only-of-type {\n",
              "        vertical-align: middle;\n",
              "    }\n",
              "\n",
              "    .dataframe tbody tr th {\n",
              "        vertical-align: top;\n",
              "    }\n",
              "\n",
              "    .dataframe thead th {\n",
              "        text-align: right;\n",
              "    }\n",
              "</style>\n",
              "<table border=\"1\" class=\"dataframe\">\n",
              "  <thead>\n",
              "    <tr style=\"text-align: right;\">\n",
              "      <th></th>\n",
              "      <th>count</th>\n",
              "      <th>mean</th>\n",
              "      <th>std</th>\n",
              "      <th>min</th>\n",
              "      <th>25%</th>\n",
              "      <th>50%</th>\n",
              "      <th>75%</th>\n",
              "      <th>max</th>\n",
              "    </tr>\n",
              "  </thead>\n",
              "  <tbody>\n",
              "    <tr>\n",
              "      <th>total_bill</th>\n",
              "      <td>244.0</td>\n",
              "      <td>19.785943</td>\n",
              "      <td>8.902412</td>\n",
              "      <td>3.07</td>\n",
              "      <td>13.3475</td>\n",
              "      <td>17.795</td>\n",
              "      <td>24.1275</td>\n",
              "      <td>50.81</td>\n",
              "    </tr>\n",
              "    <tr>\n",
              "      <th>tip</th>\n",
              "      <td>244.0</td>\n",
              "      <td>2.998279</td>\n",
              "      <td>1.383638</td>\n",
              "      <td>1.00</td>\n",
              "      <td>2.0000</td>\n",
              "      <td>2.900</td>\n",
              "      <td>3.5625</td>\n",
              "      <td>10.00</td>\n",
              "    </tr>\n",
              "    <tr>\n",
              "      <th>size</th>\n",
              "      <td>244.0</td>\n",
              "      <td>2.569672</td>\n",
              "      <td>0.951100</td>\n",
              "      <td>1.00</td>\n",
              "      <td>2.0000</td>\n",
              "      <td>2.000</td>\n",
              "      <td>3.0000</td>\n",
              "      <td>6.00</td>\n",
              "    </tr>\n",
              "  </tbody>\n",
              "</table>\n",
              "</div>"
            ],
            "text/plain": [
              "            count       mean       std   min      25%     50%      75%    max\n",
              "total_bill  244.0  19.785943  8.902412  3.07  13.3475  17.795  24.1275  50.81\n",
              "tip         244.0   2.998279  1.383638  1.00   2.0000   2.900   3.5625  10.00\n",
              "size        244.0   2.569672  0.951100  1.00   2.0000   2.000   3.0000   6.00"
            ]
          },
          "metadata": {
            "tags": []
          },
          "execution_count": 4
        }
      ]
    },
    {
      "cell_type": "code",
      "metadata": {
        "id": "cAk25Z2VByF4",
        "colab_type": "code",
        "colab": {}
      },
      "source": [
        "#yeni bir kütüphane kullanacağız.\n",
        "import researchpy as rp"
      ],
      "execution_count": null,
      "outputs": []
    },
    {
      "cell_type": "markdown",
      "metadata": {
        "id": "DbEJ1630ByF6",
        "colab_type": "text"
      },
      "source": [
        "Yukarıda yapmış olduğumuz işlemi bir de benzer şekilde _researchpy_ kütüphanesi ile yapalım.  \n",
        "_summary_cont_ işlevi ile sayısal değişkenleri seçeceğiz."
      ]
    },
    {
      "cell_type": "code",
      "metadata": {
        "id": "sh92FDifByF6",
        "colab_type": "code",
        "colab": {},
        "outputId": "f9d0d6a3-fe42-40cb-afea-b0db8c56b877"
      },
      "source": [
        "rp.summary_cont(df[[\"total_bill\", \"tip\", \"size\"]])"
      ],
      "execution_count": null,
      "outputs": [
        {
          "output_type": "stream",
          "text": [
            "\n",
            "\n"
          ],
          "name": "stdout"
        },
        {
          "output_type": "execute_result",
          "data": {
            "text/html": [
              "<div>\n",
              "<style scoped>\n",
              "    .dataframe tbody tr th:only-of-type {\n",
              "        vertical-align: middle;\n",
              "    }\n",
              "\n",
              "    .dataframe tbody tr th {\n",
              "        vertical-align: top;\n",
              "    }\n",
              "\n",
              "    .dataframe thead th {\n",
              "        text-align: right;\n",
              "    }\n",
              "</style>\n",
              "<table border=\"1\" class=\"dataframe\">\n",
              "  <thead>\n",
              "    <tr style=\"text-align: right;\">\n",
              "      <th></th>\n",
              "      <th>Variable</th>\n",
              "      <th>N</th>\n",
              "      <th>Mean</th>\n",
              "      <th>SD</th>\n",
              "      <th>SE</th>\n",
              "      <th>95% Conf.</th>\n",
              "      <th>Interval</th>\n",
              "    </tr>\n",
              "  </thead>\n",
              "  <tbody>\n",
              "    <tr>\n",
              "      <th>0</th>\n",
              "      <td>total_bill</td>\n",
              "      <td>244.0</td>\n",
              "      <td>19.7859</td>\n",
              "      <td>8.9024</td>\n",
              "      <td>0.5699</td>\n",
              "      <td>18.6633</td>\n",
              "      <td>20.9086</td>\n",
              "    </tr>\n",
              "    <tr>\n",
              "      <th>1</th>\n",
              "      <td>tip</td>\n",
              "      <td>244.0</td>\n",
              "      <td>2.9983</td>\n",
              "      <td>1.3836</td>\n",
              "      <td>0.0886</td>\n",
              "      <td>2.8238</td>\n",
              "      <td>3.1728</td>\n",
              "    </tr>\n",
              "    <tr>\n",
              "      <th>2</th>\n",
              "      <td>size</td>\n",
              "      <td>244.0</td>\n",
              "      <td>2.5697</td>\n",
              "      <td>0.9511</td>\n",
              "      <td>0.0609</td>\n",
              "      <td>2.4497</td>\n",
              "      <td>2.6896</td>\n",
              "    </tr>\n",
              "  </tbody>\n",
              "</table>\n",
              "</div>"
            ],
            "text/plain": [
              "     Variable      N     Mean      SD      SE  95% Conf.  Interval\n",
              "0  total_bill  244.0  19.7859  8.9024  0.5699    18.6633   20.9086\n",
              "1         tip  244.0   2.9983  1.3836  0.0886     2.8238    3.1728\n",
              "2        size  244.0   2.5697  0.9511  0.0609     2.4497    2.6896"
            ]
          },
          "metadata": {
            "tags": []
          },
          "execution_count": 7
        }
      ]
    },
    {
      "cell_type": "markdown",
      "metadata": {
        "id": "bYEcWsYJByF8",
        "colab_type": "text"
      },
      "source": [
        "describe() ile benzer olsa da bizim için belki daha anlamlı olabilecek bazı değerler verdi.  \n",
        "**N**: Gözlem sayıları  \n",
        "**Mean**: Ortalama  \n",
        "**SD**: Standart Sapma  \n",
        "**95% Conf. Interval** Güven Aralıkları"
      ]
    },
    {
      "cell_type": "markdown",
      "metadata": {
        "id": "c9247aVFByF9",
        "colab_type": "text"
      },
      "source": [
        "Bir de bu işlemi categoric değişkenler için inceleyelim."
      ]
    },
    {
      "cell_type": "code",
      "metadata": {
        "id": "DpyHxrw9ByF-",
        "colab_type": "code",
        "colab": {},
        "outputId": "79161e5d-3f48-433a-e3ff-06b571300fed"
      },
      "source": [
        "rp.summary_cat(df[[\"sex\", \"smoker\", \"day\"]]).T"
      ],
      "execution_count": null,
      "outputs": [
        {
          "output_type": "execute_result",
          "data": {
            "text/html": [
              "<div>\n",
              "<style scoped>\n",
              "    .dataframe tbody tr th:only-of-type {\n",
              "        vertical-align: middle;\n",
              "    }\n",
              "\n",
              "    .dataframe tbody tr th {\n",
              "        vertical-align: top;\n",
              "    }\n",
              "\n",
              "    .dataframe thead th {\n",
              "        text-align: right;\n",
              "    }\n",
              "</style>\n",
              "<table border=\"1\" class=\"dataframe\">\n",
              "  <thead>\n",
              "    <tr style=\"text-align: right;\">\n",
              "      <th></th>\n",
              "      <th>0</th>\n",
              "      <th>1</th>\n",
              "      <th>2</th>\n",
              "      <th>3</th>\n",
              "      <th>4</th>\n",
              "      <th>5</th>\n",
              "      <th>6</th>\n",
              "      <th>7</th>\n",
              "    </tr>\n",
              "  </thead>\n",
              "  <tbody>\n",
              "    <tr>\n",
              "      <th>Variable</th>\n",
              "      <td>sex</td>\n",
              "      <td></td>\n",
              "      <td>smoker</td>\n",
              "      <td></td>\n",
              "      <td>day</td>\n",
              "      <td></td>\n",
              "      <td></td>\n",
              "      <td></td>\n",
              "    </tr>\n",
              "    <tr>\n",
              "      <th>Outcome</th>\n",
              "      <td>Male</td>\n",
              "      <td>Female</td>\n",
              "      <td>No</td>\n",
              "      <td>Yes</td>\n",
              "      <td>Sat</td>\n",
              "      <td>Sun</td>\n",
              "      <td>Thur</td>\n",
              "      <td>Fri</td>\n",
              "    </tr>\n",
              "    <tr>\n",
              "      <th>Count</th>\n",
              "      <td>157</td>\n",
              "      <td>87</td>\n",
              "      <td>151</td>\n",
              "      <td>93</td>\n",
              "      <td>87</td>\n",
              "      <td>76</td>\n",
              "      <td>62</td>\n",
              "      <td>19</td>\n",
              "    </tr>\n",
              "    <tr>\n",
              "      <th>Percent</th>\n",
              "      <td>64.34</td>\n",
              "      <td>35.66</td>\n",
              "      <td>61.89</td>\n",
              "      <td>38.11</td>\n",
              "      <td>35.66</td>\n",
              "      <td>31.15</td>\n",
              "      <td>25.41</td>\n",
              "      <td>7.79</td>\n",
              "    </tr>\n",
              "  </tbody>\n",
              "</table>\n",
              "</div>"
            ],
            "text/plain": [
              "              0       1       2      3      4      5      6     7\n",
              "Variable    sex          smoker           day                    \n",
              "Outcome    Male  Female      No    Yes    Sat    Sun   Thur   Fri\n",
              "Count       157      87     151     93     87     76     62    19\n",
              "Percent   64.34   35.66   61.89  38.11  35.66  31.15  25.41  7.79"
            ]
          },
          "metadata": {
            "tags": []
          },
          "execution_count": 11
        }
      ]
    },
    {
      "cell_type": "markdown",
      "metadata": {
        "id": "5CvbNhdVByGA",
        "colab_type": "text"
      },
      "source": [
        "Veri okuryazarlığından biraz daha farklı olarak betimsel istatistikleri farklı bir kütüphane ile ele almış olduk.  \n",
        "Bu bölümün asıl farklılaştığı nokta olan **kovaryans** ve **korelasyon**'u da hızlıca bir ele alalım."
      ]
    },
    {
      "cell_type": "markdown",
      "metadata": {
        "id": "G6NC2wSpByGB",
        "colab_type": "text"
      },
      "source": [
        "**Kovaryans**: Değişkenlerin ilişkilerine ilişkin bir değişkenlik ölçüsü."
      ]
    },
    {
      "cell_type": "markdown",
      "metadata": {
        "id": "ewFqSW_PByGB",
        "colab_type": "text"
      },
      "source": [
        "**cov()** ile kovaryans hesaplaması yapabiliriz."
      ]
    },
    {
      "cell_type": "code",
      "metadata": {
        "id": "NTsWmxplByGB",
        "colab_type": "code",
        "colab": {},
        "outputId": "89c43125-5ee9-4179-a222-ca4bff91f678"
      },
      "source": [
        "df[[\"tip\", \"total_bill\"]].cov()"
      ],
      "execution_count": null,
      "outputs": [
        {
          "output_type": "execute_result",
          "data": {
            "text/html": [
              "<div>\n",
              "<style scoped>\n",
              "    .dataframe tbody tr th:only-of-type {\n",
              "        vertical-align: middle;\n",
              "    }\n",
              "\n",
              "    .dataframe tbody tr th {\n",
              "        vertical-align: top;\n",
              "    }\n",
              "\n",
              "    .dataframe thead th {\n",
              "        text-align: right;\n",
              "    }\n",
              "</style>\n",
              "<table border=\"1\" class=\"dataframe\">\n",
              "  <thead>\n",
              "    <tr style=\"text-align: right;\">\n",
              "      <th></th>\n",
              "      <th>tip</th>\n",
              "      <th>total_bill</th>\n",
              "    </tr>\n",
              "  </thead>\n",
              "  <tbody>\n",
              "    <tr>\n",
              "      <th>tip</th>\n",
              "      <td>1.914455</td>\n",
              "      <td>8.323502</td>\n",
              "    </tr>\n",
              "    <tr>\n",
              "      <th>total_bill</th>\n",
              "      <td>8.323502</td>\n",
              "      <td>79.252939</td>\n",
              "    </tr>\n",
              "  </tbody>\n",
              "</table>\n",
              "</div>"
            ],
            "text/plain": [
              "                 tip  total_bill\n",
              "tip         1.914455    8.323502\n",
              "total_bill  8.323502   79.252939"
            ]
          },
          "metadata": {
            "tags": []
          },
          "execution_count": 13
        }
      ]
    },
    {
      "cell_type": "markdown",
      "metadata": {
        "id": "J6gSLWB6ByGE",
        "colab_type": "text"
      },
      "source": [
        "**Korelasyon**: İki değişken arasındaki ilişki hakkında bilgi verici ölçü."
      ]
    },
    {
      "cell_type": "markdown",
      "metadata": {
        "id": "JfK18jZLByGE",
        "colab_type": "text"
      },
      "source": [
        "**corr()** ile korelasyon hesaplaması yapabiliriz."
      ]
    },
    {
      "cell_type": "code",
      "metadata": {
        "id": "dtbp4cXLByGF",
        "colab_type": "code",
        "colab": {},
        "outputId": "6a3e9b83-fa14-417d-e7fd-0a1bda231679"
      },
      "source": [
        "df[[\"tip\", \"total_bill\"]].corr()"
      ],
      "execution_count": null,
      "outputs": [
        {
          "output_type": "execute_result",
          "data": {
            "text/html": [
              "<div>\n",
              "<style scoped>\n",
              "    .dataframe tbody tr th:only-of-type {\n",
              "        vertical-align: middle;\n",
              "    }\n",
              "\n",
              "    .dataframe tbody tr th {\n",
              "        vertical-align: top;\n",
              "    }\n",
              "\n",
              "    .dataframe thead th {\n",
              "        text-align: right;\n",
              "    }\n",
              "</style>\n",
              "<table border=\"1\" class=\"dataframe\">\n",
              "  <thead>\n",
              "    <tr style=\"text-align: right;\">\n",
              "      <th></th>\n",
              "      <th>tip</th>\n",
              "      <th>total_bill</th>\n",
              "    </tr>\n",
              "  </thead>\n",
              "  <tbody>\n",
              "    <tr>\n",
              "      <th>tip</th>\n",
              "      <td>1.000000</td>\n",
              "      <td>0.675734</td>\n",
              "    </tr>\n",
              "    <tr>\n",
              "      <th>total_bill</th>\n",
              "      <td>0.675734</td>\n",
              "      <td>1.000000</td>\n",
              "    </tr>\n",
              "  </tbody>\n",
              "</table>\n",
              "</div>"
            ],
            "text/plain": [
              "                 tip  total_bill\n",
              "tip         1.000000    0.675734\n",
              "total_bill  0.675734    1.000000"
            ]
          },
          "metadata": {
            "tags": []
          },
          "execution_count": 14
        }
      ]
    },
    {
      "cell_type": "markdown",
      "metadata": {
        "id": "rys0S1TqByGJ",
        "colab_type": "text"
      },
      "source": [
        "## İş Uygulaması: Fiyat Stratejisi Karar Destek Sistemi"
      ]
    },
    {
      "cell_type": "markdown",
      "metadata": {
        "id": "ACroGImfByGK",
        "colab_type": "text"
      },
      "source": [
        "Ürüne gelen fiyat teklifleri için veri toplandığını farzedelim.  \n",
        "Şimdilik bu verileri kendimiz oluşturacağız."
      ]
    },
    {
      "cell_type": "code",
      "metadata": {
        "id": "PFvrYrDPByGK",
        "colab_type": "code",
        "colab": {}
      },
      "source": [
        "import numpy as np\n",
        "# 10 ve 110 TL araliginde 1000 adet teklif\n",
        "fiyatlar = np.random.randint(10, 110, 1000)"
      ],
      "execution_count": null,
      "outputs": []
    },
    {
      "cell_type": "code",
      "metadata": {
        "id": "R7MIyry6ByGM",
        "colab_type": "code",
        "colab": {},
        "outputId": "daa99a2b-cf9e-446a-9597-dfc4d4be4561"
      },
      "source": [
        "fiyatlar.mean()\n",
        "#Ortalama ödenmesi göze alınan miktar"
      ],
      "execution_count": null,
      "outputs": [
        {
          "output_type": "execute_result",
          "data": {
            "text/plain": [
              "59.294"
            ]
          },
          "metadata": {
            "tags": []
          },
          "execution_count": 25
        }
      ]
    },
    {
      "cell_type": "markdown",
      "metadata": {
        "id": "TiUqIboyByGP",
        "colab_type": "text"
      },
      "source": [
        "Bunun etrafına bir güven aralığı koyarak çok daha zengin bir karar mekanizması oluşturmuş olacağız.  \n",
        "Şimdi bunun için yeni bir kütüphane import edeceğiz."
      ]
    },
    {
      "cell_type": "code",
      "metadata": {
        "id": "YyeVKpD8ByGQ",
        "colab_type": "code",
        "colab": {}
      },
      "source": [
        "import statsmodels.stats.api as sms"
      ],
      "execution_count": null,
      "outputs": []
    },
    {
      "cell_type": "code",
      "metadata": {
        "id": "6dc-hL6QByGS",
        "colab_type": "code",
        "colab": {},
        "outputId": "ae23d4ca-8002-4354-b4ee-a9adaf1e90c6"
      },
      "source": [
        "sms.DescrStatsW(fiyatlar).tconfint_mean()"
      ],
      "execution_count": null,
      "outputs": [
        {
          "output_type": "execute_result",
          "data": {
            "text/plain": [
              "(57.55186321697051, 61.036136783029484)"
            ]
          },
          "metadata": {
            "tags": []
          },
          "execution_count": 28
        }
      ]
    },
    {
      "cell_type": "markdown",
      "metadata": {
        "id": "Kh9UMXEhByGT",
        "colab_type": "text"
      },
      "source": [
        "Müşterilerin %95'i 57-61 TL aralığında bedel ödemeyi göze almıştır."
      ]
    },
    {
      "cell_type": "markdown",
      "metadata": {
        "id": "BxOuh_W4ByGU",
        "colab_type": "text"
      },
      "source": [
        "# Olasılığa Giriş ve Olasılık Dağılımları"
      ]
    },
    {
      "cell_type": "code",
      "metadata": {
        "id": "SHN_WXHIByGU",
        "colab_type": "code",
        "colab": {}
      },
      "source": [
        ""
      ],
      "execution_count": null,
      "outputs": []
    }
  ]
}